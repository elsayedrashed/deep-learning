{
 "cells": [
  {
   "cell_type": "markdown",
   "source": [
    "## Regressor using tf.estimator.DNNRegressor\n",
    "https://www.gcptutorials.com/post/stock-price-prediction-with-tensorflow\n"
   ],
   "metadata": {
    "collapsed": false
   }
  },
  {
   "cell_type": "code",
   "execution_count": 1,
   "outputs": [],
   "source": [
    "import tempfile\n",
    "import numpy as np\n",
    "import pandas as pd\n",
    "import tensorflow as tf"
   ],
   "metadata": {
    "collapsed": false,
    "ExecuteTime": {
     "end_time": "2023-07-23T20:48:20.720519Z",
     "start_time": "2023-07-23T20:48:13.255488Z"
    }
   }
  },
  {
   "cell_type": "code",
   "execution_count": 2,
   "outputs": [],
   "source": [
    "from sklearn.datasets import fetch_california_housing\n",
    "from sklearn.model_selection import train_test_split"
   ],
   "metadata": {
    "collapsed": false,
    "ExecuteTime": {
     "end_time": "2023-07-23T20:48:23.217734Z",
     "start_time": "2023-07-23T20:48:22.365915Z"
    }
   }
  },
  {
   "cell_type": "code",
   "execution_count": 3,
   "outputs": [],
   "source": [
    "from sklearn.metrics import explained_variance_score\n",
    "from sklearn.metrics import mean_absolute_error\n",
    "from sklearn.metrics import median_absolute_error\n",
    "from sklearn.metrics import r2_score\n",
    "from sklearn.metrics import mean_squared_error"
   ],
   "metadata": {
    "collapsed": false,
    "ExecuteTime": {
     "end_time": "2023-07-23T20:48:24.477964Z",
     "start_time": "2023-07-23T20:48:24.468958Z"
    }
   }
  },
  {
   "cell_type": "code",
   "execution_count": 4,
   "outputs": [],
   "source": [
    "import warnings\n",
    "warnings.filterwarnings('ignore')"
   ],
   "metadata": {
    "collapsed": false,
    "ExecuteTime": {
     "end_time": "2023-07-23T20:48:25.245493Z",
     "start_time": "2023-07-23T20:48:25.233564Z"
    }
   }
  },
  {
   "cell_type": "code",
   "execution_count": 5,
   "outputs": [],
   "source": [
    "tf.get_logger().setLevel('ERROR')"
   ],
   "metadata": {
    "collapsed": false,
    "ExecuteTime": {
     "end_time": "2023-07-23T20:48:25.915293Z",
     "start_time": "2023-07-23T20:48:25.909218Z"
    }
   }
  },
  {
   "cell_type": "markdown",
   "source": [
    "## Get Training Data"
   ],
   "metadata": {
    "collapsed": false
   }
  },
  {
   "cell_type": "code",
   "execution_count": 6,
   "outputs": [
    {
     "data": {
      "text/plain": "   MedInc  HouseAge  AveRooms  AveBedrms  Population  AveOccup  Latitude  \\\n0  8.3252      41.0  6.984127   1.023810       322.0  2.555556     37.88   \n1  8.3014      21.0  6.238137   0.971880      2401.0  2.109842     37.86   \n2  7.2574      52.0  8.288136   1.073446       496.0  2.802260     37.85   \n3  5.6431      52.0  5.817352   1.073059       558.0  2.547945     37.85   \n4  3.8462      52.0  6.281853   1.081081       565.0  2.181467     37.85   \n5  4.0368      52.0  4.761658   1.103627       413.0  2.139896     37.85   \n6  3.6591      52.0  4.931907   0.951362      1094.0  2.128405     37.84   \n7  3.1200      52.0  4.797527   1.061824      1157.0  1.788253     37.84   \n8  2.0804      42.0  4.294118   1.117647      1206.0  2.026891     37.84   \n9  3.6912      52.0  4.970588   0.990196      1551.0  2.172269     37.84   \n\n   Longitude  \n0    -122.23  \n1    -122.22  \n2    -122.24  \n3    -122.25  \n4    -122.25  \n5    -122.25  \n6    -122.25  \n7    -122.25  \n8    -122.26  \n9    -122.25  ",
      "text/html": "<div>\n<style scoped>\n    .dataframe tbody tr th:only-of-type {\n        vertical-align: middle;\n    }\n\n    .dataframe tbody tr th {\n        vertical-align: top;\n    }\n\n    .dataframe thead th {\n        text-align: right;\n    }\n</style>\n<table border=\"1\" class=\"dataframe\">\n  <thead>\n    <tr style=\"text-align: right;\">\n      <th></th>\n      <th>MedInc</th>\n      <th>HouseAge</th>\n      <th>AveRooms</th>\n      <th>AveBedrms</th>\n      <th>Population</th>\n      <th>AveOccup</th>\n      <th>Latitude</th>\n      <th>Longitude</th>\n    </tr>\n  </thead>\n  <tbody>\n    <tr>\n      <th>0</th>\n      <td>8.3252</td>\n      <td>41.0</td>\n      <td>6.984127</td>\n      <td>1.023810</td>\n      <td>322.0</td>\n      <td>2.555556</td>\n      <td>37.88</td>\n      <td>-122.23</td>\n    </tr>\n    <tr>\n      <th>1</th>\n      <td>8.3014</td>\n      <td>21.0</td>\n      <td>6.238137</td>\n      <td>0.971880</td>\n      <td>2401.0</td>\n      <td>2.109842</td>\n      <td>37.86</td>\n      <td>-122.22</td>\n    </tr>\n    <tr>\n      <th>2</th>\n      <td>7.2574</td>\n      <td>52.0</td>\n      <td>8.288136</td>\n      <td>1.073446</td>\n      <td>496.0</td>\n      <td>2.802260</td>\n      <td>37.85</td>\n      <td>-122.24</td>\n    </tr>\n    <tr>\n      <th>3</th>\n      <td>5.6431</td>\n      <td>52.0</td>\n      <td>5.817352</td>\n      <td>1.073059</td>\n      <td>558.0</td>\n      <td>2.547945</td>\n      <td>37.85</td>\n      <td>-122.25</td>\n    </tr>\n    <tr>\n      <th>4</th>\n      <td>3.8462</td>\n      <td>52.0</td>\n      <td>6.281853</td>\n      <td>1.081081</td>\n      <td>565.0</td>\n      <td>2.181467</td>\n      <td>37.85</td>\n      <td>-122.25</td>\n    </tr>\n    <tr>\n      <th>5</th>\n      <td>4.0368</td>\n      <td>52.0</td>\n      <td>4.761658</td>\n      <td>1.103627</td>\n      <td>413.0</td>\n      <td>2.139896</td>\n      <td>37.85</td>\n      <td>-122.25</td>\n    </tr>\n    <tr>\n      <th>6</th>\n      <td>3.6591</td>\n      <td>52.0</td>\n      <td>4.931907</td>\n      <td>0.951362</td>\n      <td>1094.0</td>\n      <td>2.128405</td>\n      <td>37.84</td>\n      <td>-122.25</td>\n    </tr>\n    <tr>\n      <th>7</th>\n      <td>3.1200</td>\n      <td>52.0</td>\n      <td>4.797527</td>\n      <td>1.061824</td>\n      <td>1157.0</td>\n      <td>1.788253</td>\n      <td>37.84</td>\n      <td>-122.25</td>\n    </tr>\n    <tr>\n      <th>8</th>\n      <td>2.0804</td>\n      <td>42.0</td>\n      <td>4.294118</td>\n      <td>1.117647</td>\n      <td>1206.0</td>\n      <td>2.026891</td>\n      <td>37.84</td>\n      <td>-122.26</td>\n    </tr>\n    <tr>\n      <th>9</th>\n      <td>3.6912</td>\n      <td>52.0</td>\n      <td>4.970588</td>\n      <td>0.990196</td>\n      <td>1551.0</td>\n      <td>2.172269</td>\n      <td>37.84</td>\n      <td>-122.25</td>\n    </tr>\n  </tbody>\n</table>\n</div>"
     },
     "execution_count": 6,
     "metadata": {},
     "output_type": "execute_result"
    }
   ],
   "source": [
    "# Load Data\n",
    "california_house_price = fetch_california_housing()\n",
    "df = pd.DataFrame(\n",
    "    california_house_price.data,\n",
    "    columns=california_house_price.feature_names,\n",
    ")\n",
    "df.head(10)"
   ],
   "metadata": {
    "collapsed": false,
    "ExecuteTime": {
     "end_time": "2023-07-23T20:48:27.189910Z",
     "start_time": "2023-07-23T20:48:27.153311Z"
    }
   }
  },
  {
   "cell_type": "code",
   "execution_count": 7,
   "outputs": [],
   "source": [
    "X = df\n",
    "y = pd.DataFrame()\n",
    "y['PRICE'] = pd.DataFrame(california_house_price.target)"
   ],
   "metadata": {
    "collapsed": false,
    "ExecuteTime": {
     "end_time": "2023-07-23T20:48:28.066707Z",
     "start_time": "2023-07-23T20:48:28.055033Z"
    }
   }
  },
  {
   "cell_type": "code",
   "execution_count": 8,
   "outputs": [],
   "source": [
    "# train/test split\n",
    "X_train, X_test, y_train, y_test = train_test_split(X, y, test_size=0.2)"
   ],
   "metadata": {
    "collapsed": false,
    "ExecuteTime": {
     "end_time": "2023-07-23T20:48:28.686061Z",
     "start_time": "2023-07-23T20:48:28.679194Z"
    }
   }
  },
  {
   "cell_type": "markdown",
   "source": [
    "## Step 1: Create an input function\n",
    "An input function is a function that returns a tf.data.Dataset object which outputs the following two-element tuple:\n",
    "\n",
    "features — A Python dictionary in which:\n",
    "(a)Each key is the name of a feature.\n",
    "(b)Each value is an array containing all of that feature’s values.\n",
    "\n",
    "label — An array containing the values of the label for every example.\n",
    "We’re using pandas for building input pipeline"
   ],
   "metadata": {
    "collapsed": false
   }
  },
  {
   "cell_type": "code",
   "execution_count": 9,
   "outputs": [],
   "source": [
    "def input_fn(df_features, df_labels, batch_size=256, training_mode=True):\n",
    "    # Convert the inputs Dataframes to a Dataset.\n",
    "    dataset = tf.data.Dataset.from_tensor_slices((dict(df_features), df_labels))\n",
    "    # Shuffle and repeat if you are in training mode.\n",
    "    if training_mode:\n",
    "        dataset = dataset.shuffle(1000).repeat()\n",
    "\n",
    "    return dataset.batch(batch_size)"
   ],
   "metadata": {
    "collapsed": false,
    "ExecuteTime": {
     "end_time": "2023-07-23T20:48:30.030217Z",
     "start_time": "2023-07-23T20:48:30.023657Z"
    }
   }
  },
  {
   "cell_type": "markdown",
   "source": [
    "## Step 2: Define the model’s feature columns\n",
    "A feature column is an object describing how the model should use raw input data from the features dictionary. When you build an Estimator model, we pass it a list of feature columns that describe each of the features you want the model to use. The tf.feature_column module provides many options for representing data to the model."
   ],
   "metadata": {
    "collapsed": false
   }
  },
  {
   "cell_type": "code",
   "execution_count": 10,
   "outputs": [],
   "source": [
    "# Feature columns describe how to use the input.\n",
    "feature_columns = []\n",
    "for key in X_train.keys():\n",
    "    feature_columns.append(tf.feature_column.numeric_column(key=key))"
   ],
   "metadata": {
    "collapsed": false,
    "ExecuteTime": {
     "end_time": "2023-07-23T20:48:31.446997Z",
     "start_time": "2023-07-23T20:48:31.440145Z"
    }
   }
  },
  {
   "cell_type": "markdown",
   "source": [
    "## Step 3: Instantiate the Estimator\n",
    "The Iris problem is a classic classification problem. Fortunately, TensorFlow provides several pre-made classifier Estimators, including:\n",
    "\n",
    "a. tf.estimator.DNNClassifier for deep models that perform multi-class classification.\n",
    "b. tf.estimator.DNNLinearCombinedClassifier for wide & deep models.\n",
    "c. tf.estimator.LinearClassifier for classifiers based on linear models.\n",
    "\n",
    "For the Iris problem, tf.estimator.DNNClassifier seems like the best choice. Here’s how we instantiated this Estimator:"
   ],
   "metadata": {
    "collapsed": false
   }
  },
  {
   "cell_type": "code",
   "execution_count": 11,
   "outputs": [],
   "source": [
    "# Build a DNN with 3 hidden layers with 30 nodes each.\n",
    "regressor_dir = tempfile.mkdtemp()\n",
    "regressor = tf.estimator.DNNRegressor(\n",
    "    model_dir=regressor_dir,\n",
    "    feature_columns=feature_columns,\n",
    "    optimizer='Adagrad', # ('Adagrad', 'Adam', 'Ftrl', 'RMSProp', SGD')\n",
    "    activation_fn=tf.nn.relu,\n",
    "    loss_reduction=tf.losses.Reduction.SUM_OVER_BATCH_SIZE,\n",
    "    # Three hidden layers of 30 nodes each.\n",
    "    hidden_units=[30, 30, 30])"
   ],
   "metadata": {
    "collapsed": false,
    "ExecuteTime": {
     "end_time": "2023-07-23T20:48:33.114609Z",
     "start_time": "2023-07-23T20:48:32.899335Z"
    }
   }
  },
  {
   "cell_type": "markdown",
   "source": [
    "## Step 4: Train and Evaluate"
   ],
   "metadata": {
    "collapsed": false
   }
  },
  {
   "cell_type": "code",
   "execution_count": 12,
   "outputs": [
    {
     "data": {
      "text/plain": "<tensorflow_estimator.python.estimator.canned.dnn.DNNRegressorV2 at 0x14d037730>"
     },
     "execution_count": 12,
     "metadata": {},
     "output_type": "execute_result"
    }
   ],
   "source": [
    "# Train the Model.\n",
    "regressor.train(\n",
    "    input_fn=lambda: input_fn(X_train, y_train, training_mode=True),\n",
    "    steps=5000)"
   ],
   "metadata": {
    "collapsed": false,
    "ExecuteTime": {
     "end_time": "2023-07-23T20:48:51.812158Z",
     "start_time": "2023-07-23T20:48:34.508280Z"
    }
   }
  },
  {
   "cell_type": "code",
   "execution_count": 13,
   "outputs": [
    {
     "name": "stdout",
     "output_type": "stream",
     "text": [
      "average_loss : 1.1234211\n",
      "label/mean : 2.050632\n",
      "loss : 1.1330909\n",
      "prediction/mean : 2.0510778\n",
      "global_step : 5000\n"
     ]
    }
   ],
   "source": [
    "# Evaluates the accuracy of the trained model on the test data\n",
    "eval_result = regressor.evaluate(input_fn=lambda: input_fn(X_test, y_test, training_mode=False))\n",
    "for key, value in eval_result.items():\n",
    "    print(key, \":\", value)"
   ],
   "metadata": {
    "collapsed": false,
    "ExecuteTime": {
     "end_time": "2023-07-23T20:48:56.093250Z",
     "start_time": "2023-07-23T20:48:52.669342Z"
    }
   }
  },
  {
   "cell_type": "code",
   "execution_count": 14,
   "outputs": [],
   "source": [
    "## Define Prediction input data function\n",
    "def prediction_input_fn(features, batch_size=256):\n",
    "    # Convert the inputs to a Dataset without labels.\n",
    "    dataset = tf.data.Dataset.from_tensor_slices(dict(features))\n",
    "\n",
    "    return dataset.batch(batch_size)"
   ],
   "metadata": {
    "collapsed": false,
    "ExecuteTime": {
     "end_time": "2023-07-23T20:49:00.793696Z",
     "start_time": "2023-07-23T20:49:00.784574Z"
    }
   }
  },
  {
   "cell_type": "code",
   "execution_count": 15,
   "outputs": [],
   "source": [
    "pred = regressor.predict(input_fn=lambda: prediction_input_fn(X_test))\n",
    "predictions = np.array([p['predictions'][0] for p in pred])"
   ],
   "metadata": {
    "collapsed": false,
    "ExecuteTime": {
     "end_time": "2023-07-23T20:49:03.015913Z",
     "start_time": "2023-07-23T20:49:02.349605Z"
    }
   }
  },
  {
   "cell_type": "code",
   "execution_count": 16,
   "outputs": [
    {
     "name": "stdout",
     "output_type": "stream",
     "text": [
      "R-Squared: 15.6%\n",
      "MSE: 112.3%\n",
      "The Explained Variance: 0.16\n",
      "The Mean Absolute Error: 0.84\n",
      "The Median Absolute Error: 0.70\n"
     ]
    }
   ],
   "source": [
    "print(f'R-Squared: {np.round(r2_score(y_test, predictions), decimals=3)*100}%')\n",
    "print(f'MSE: {np.round(mean_squared_error(y_test, predictions), decimals=3)*100}%')\n",
    "\n",
    "print(\"The Explained Variance: %.2f\" % explained_variance_score(y_test, predictions))\n",
    "print(\"The Mean Absolute Error: %.2f\" % mean_absolute_error(y_test, predictions))\n",
    "print(\"The Median Absolute Error: %.2f\" % median_absolute_error(y_test, predictions))"
   ],
   "metadata": {
    "collapsed": false,
    "ExecuteTime": {
     "end_time": "2023-07-23T20:49:04.052786Z",
     "start_time": "2023-07-23T20:49:04.006942Z"
    }
   }
  },
  {
   "cell_type": "markdown",
   "source": [
    "## Step 5: Predict"
   ],
   "metadata": {
    "collapsed": false
   }
  },
  {
   "cell_type": "code",
   "execution_count": 17,
   "outputs": [],
   "source": [
    "# Generate predictions from the model\n",
    "pred = regressor.predict(input_fn=lambda: prediction_input_fn(X_test))"
   ],
   "metadata": {
    "collapsed": false,
    "ExecuteTime": {
     "end_time": "2023-07-23T20:49:32.166915Z",
     "start_time": "2023-07-23T20:49:32.157243Z"
    }
   }
  },
  {
   "cell_type": "code",
   "execution_count": 18,
   "outputs": [
    {
     "data": {
      "text/plain": "             0\n0     1.736858\n1     2.119574\n2     2.208238\n3     2.498385\n4     2.131596\n...        ...\n4123  2.969947\n4124  1.585386\n4125  2.019677\n4126  2.332325\n4127  2.027165\n\n[4128 rows x 1 columns]",
      "text/html": "<div>\n<style scoped>\n    .dataframe tbody tr th:only-of-type {\n        vertical-align: middle;\n    }\n\n    .dataframe tbody tr th {\n        vertical-align: top;\n    }\n\n    .dataframe thead th {\n        text-align: right;\n    }\n</style>\n<table border=\"1\" class=\"dataframe\">\n  <thead>\n    <tr style=\"text-align: right;\">\n      <th></th>\n      <th>0</th>\n    </tr>\n  </thead>\n  <tbody>\n    <tr>\n      <th>0</th>\n      <td>1.736858</td>\n    </tr>\n    <tr>\n      <th>1</th>\n      <td>2.119574</td>\n    </tr>\n    <tr>\n      <th>2</th>\n      <td>2.208238</td>\n    </tr>\n    <tr>\n      <th>3</th>\n      <td>2.498385</td>\n    </tr>\n    <tr>\n      <th>4</th>\n      <td>2.131596</td>\n    </tr>\n    <tr>\n      <th>...</th>\n      <td>...</td>\n    </tr>\n    <tr>\n      <th>4123</th>\n      <td>2.969947</td>\n    </tr>\n    <tr>\n      <th>4124</th>\n      <td>1.585386</td>\n    </tr>\n    <tr>\n      <th>4125</th>\n      <td>2.019677</td>\n    </tr>\n    <tr>\n      <th>4126</th>\n      <td>2.332325</td>\n    </tr>\n    <tr>\n      <th>4127</th>\n      <td>2.027165</td>\n    </tr>\n  </tbody>\n</table>\n<p>4128 rows × 1 columns</p>\n</div>"
     },
     "execution_count": 18,
     "metadata": {},
     "output_type": "execute_result"
    }
   ],
   "source": [
    "predictions = np.array([p['predictions'][0] for p in pred])\n",
    "df_predictions = pd.DataFrame(predictions)\n",
    "df_predictions"
   ],
   "metadata": {
    "collapsed": false,
    "ExecuteTime": {
     "end_time": "2023-07-23T20:49:33.837353Z",
     "start_time": "2023-07-23T20:49:33.017054Z"
    }
   }
  },
  {
   "cell_type": "code",
   "execution_count": null,
   "outputs": [],
   "source": [
    "# Get predictions and their probabilities\n",
    "for pred_val in predictions:\n",
    "    print(pred_val)"
   ],
   "metadata": {
    "collapsed": false
   }
  },
  {
   "cell_type": "code",
   "execution_count": null,
   "outputs": [],
   "source": [],
   "metadata": {
    "collapsed": false
   }
  }
 ],
 "metadata": {
  "kernelspec": {
   "display_name": "Python 3",
   "language": "python",
   "name": "python3"
  },
  "language_info": {
   "codemirror_mode": {
    "name": "ipython",
    "version": 2
   },
   "file_extension": ".py",
   "mimetype": "text/x-python",
   "name": "python",
   "nbconvert_exporter": "python",
   "pygments_lexer": "ipython2",
   "version": "2.7.6"
  }
 },
 "nbformat": 4,
 "nbformat_minor": 0
}
