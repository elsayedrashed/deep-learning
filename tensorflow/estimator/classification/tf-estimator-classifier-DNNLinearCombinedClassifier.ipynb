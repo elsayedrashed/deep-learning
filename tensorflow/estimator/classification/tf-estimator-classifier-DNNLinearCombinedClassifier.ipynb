{
 "cells": [
  {
   "cell_type": "markdown",
   "source": [
    "## Classifier using tf.estimator.DNNClassifier\n",
    "https://towardsai.net/p/machine-learning/tf-estimator-a-tensorflow-high-level-api\n"
   ],
   "metadata": {
    "collapsed": false
   }
  },
  {
   "cell_type": "code",
   "execution_count": 1,
   "outputs": [],
   "source": [
    "import tensorflow as tf\n",
    "import pandas as pd\n",
    "import tempfile"
   ],
   "metadata": {
    "collapsed": false,
    "ExecuteTime": {
     "end_time": "2023-07-23T15:27:02.787294Z",
     "start_time": "2023-07-23T15:26:54.681685Z"
    }
   }
  },
  {
   "cell_type": "code",
   "execution_count": 2,
   "outputs": [],
   "source": [
    "import warnings\n",
    "warnings.filterwarnings('ignore')"
   ],
   "metadata": {
    "collapsed": false,
    "ExecuteTime": {
     "end_time": "2023-07-23T15:27:04.083911Z",
     "start_time": "2023-07-23T15:27:04.074807Z"
    }
   }
  },
  {
   "cell_type": "code",
   "execution_count": 3,
   "outputs": [],
   "source": [
    "tf.get_logger().setLevel('ERROR')"
   ],
   "metadata": {
    "collapsed": false,
    "ExecuteTime": {
     "end_time": "2023-07-23T15:27:04.863985Z",
     "start_time": "2023-07-23T15:27:04.860458Z"
    }
   }
  },
  {
   "cell_type": "markdown",
   "source": [
    "## Get Training Data"
   ],
   "metadata": {
    "collapsed": false
   }
  },
  {
   "cell_type": "code",
   "execution_count": 4,
   "outputs": [],
   "source": [
    "# Preprocessing the data\n",
    "CSV_COLUMN_NAMES = ['SepalLength', 'SepalWidth', 'PetalLength', 'PetalWidth', 'Species']\n",
    "SPECIES = ['Setosa', 'Versicolor', 'Virginica']\n",
    "\n",
    "train_path = tf.keras.utils.get_file(\"iris_training.csv\", \"https://storage.googleapis.com/download.tensorflow.org/data/iris_training.csv\")\n",
    "test_path = tf.keras.utils.get_file(\"iris_test.csv\", \"https://storage.googleapis.com/download.tensorflow.org/data/iris_test.csv\")\n",
    "\n",
    "df_train = pd.read_csv(train_path, names=CSV_COLUMN_NAMES, header=0)\n",
    "df_test = pd.read_csv(test_path, names=CSV_COLUMN_NAMES, header=0)"
   ],
   "metadata": {
    "collapsed": false,
    "ExecuteTime": {
     "end_time": "2023-07-23T15:27:06.926517Z",
     "start_time": "2023-07-23T15:27:06.839974Z"
    }
   }
  },
  {
   "cell_type": "code",
   "execution_count": 5,
   "outputs": [
    {
     "data": {
      "text/plain": "     SepalLength  SepalWidth  PetalLength  PetalWidth  Species\n0            6.4         2.8          5.6         2.2        2\n1            5.0         2.3          3.3         1.0        1\n2            4.9         2.5          4.5         1.7        2\n3            4.9         3.1          1.5         0.1        0\n4            5.7         3.8          1.7         0.3        0\n..           ...         ...          ...         ...      ...\n115          5.5         2.6          4.4         1.2        1\n116          5.7         3.0          4.2         1.2        1\n117          4.4         2.9          1.4         0.2        0\n118          4.8         3.0          1.4         0.1        0\n119          5.5         2.4          3.7         1.0        1\n\n[120 rows x 5 columns]",
      "text/html": "<div>\n<style scoped>\n    .dataframe tbody tr th:only-of-type {\n        vertical-align: middle;\n    }\n\n    .dataframe tbody tr th {\n        vertical-align: top;\n    }\n\n    .dataframe thead th {\n        text-align: right;\n    }\n</style>\n<table border=\"1\" class=\"dataframe\">\n  <thead>\n    <tr style=\"text-align: right;\">\n      <th></th>\n      <th>SepalLength</th>\n      <th>SepalWidth</th>\n      <th>PetalLength</th>\n      <th>PetalWidth</th>\n      <th>Species</th>\n    </tr>\n  </thead>\n  <tbody>\n    <tr>\n      <th>0</th>\n      <td>6.4</td>\n      <td>2.8</td>\n      <td>5.6</td>\n      <td>2.2</td>\n      <td>2</td>\n    </tr>\n    <tr>\n      <th>1</th>\n      <td>5.0</td>\n      <td>2.3</td>\n      <td>3.3</td>\n      <td>1.0</td>\n      <td>1</td>\n    </tr>\n    <tr>\n      <th>2</th>\n      <td>4.9</td>\n      <td>2.5</td>\n      <td>4.5</td>\n      <td>1.7</td>\n      <td>2</td>\n    </tr>\n    <tr>\n      <th>3</th>\n      <td>4.9</td>\n      <td>3.1</td>\n      <td>1.5</td>\n      <td>0.1</td>\n      <td>0</td>\n    </tr>\n    <tr>\n      <th>4</th>\n      <td>5.7</td>\n      <td>3.8</td>\n      <td>1.7</td>\n      <td>0.3</td>\n      <td>0</td>\n    </tr>\n    <tr>\n      <th>...</th>\n      <td>...</td>\n      <td>...</td>\n      <td>...</td>\n      <td>...</td>\n      <td>...</td>\n    </tr>\n    <tr>\n      <th>115</th>\n      <td>5.5</td>\n      <td>2.6</td>\n      <td>4.4</td>\n      <td>1.2</td>\n      <td>1</td>\n    </tr>\n    <tr>\n      <th>116</th>\n      <td>5.7</td>\n      <td>3.0</td>\n      <td>4.2</td>\n      <td>1.2</td>\n      <td>1</td>\n    </tr>\n    <tr>\n      <th>117</th>\n      <td>4.4</td>\n      <td>2.9</td>\n      <td>1.4</td>\n      <td>0.2</td>\n      <td>0</td>\n    </tr>\n    <tr>\n      <th>118</th>\n      <td>4.8</td>\n      <td>3.0</td>\n      <td>1.4</td>\n      <td>0.1</td>\n      <td>0</td>\n    </tr>\n    <tr>\n      <th>119</th>\n      <td>5.5</td>\n      <td>2.4</td>\n      <td>3.7</td>\n      <td>1.0</td>\n      <td>1</td>\n    </tr>\n  </tbody>\n</table>\n<p>120 rows × 5 columns</p>\n</div>"
     },
     "execution_count": 5,
     "metadata": {},
     "output_type": "execute_result"
    }
   ],
   "source": [
    "df_train"
   ],
   "metadata": {
    "collapsed": false,
    "ExecuteTime": {
     "end_time": "2023-07-23T15:27:07.824255Z",
     "start_time": "2023-07-23T15:27:07.795834Z"
    }
   }
  },
  {
   "cell_type": "code",
   "execution_count": 6,
   "outputs": [
    {
     "data": {
      "text/plain": "    SepalLength  SepalWidth  PetalLength  PetalWidth  Species\n0           5.9         3.0          4.2         1.5        1\n1           6.9         3.1          5.4         2.1        2\n2           5.1         3.3          1.7         0.5        0\n3           6.0         3.4          4.5         1.6        1\n4           5.5         2.5          4.0         1.3        1\n5           6.2         2.9          4.3         1.3        1\n6           5.5         4.2          1.4         0.2        0\n7           6.3         2.8          5.1         1.5        2\n8           5.6         3.0          4.1         1.3        1\n9           6.7         2.5          5.8         1.8        2\n10          7.1         3.0          5.9         2.1        2\n11          4.3         3.0          1.1         0.1        0\n12          5.6         2.8          4.9         2.0        2\n13          5.5         2.3          4.0         1.3        1\n14          6.0         2.2          4.0         1.0        1\n15          5.1         3.5          1.4         0.2        0\n16          5.7         2.6          3.5         1.0        1\n17          4.8         3.4          1.9         0.2        0\n18          5.1         3.4          1.5         0.2        0\n19          5.7         2.5          5.0         2.0        2\n20          5.4         3.4          1.7         0.2        0\n21          5.6         3.0          4.5         1.5        1\n22          6.3         2.9          5.6         1.8        2\n23          6.3         2.5          4.9         1.5        1\n24          5.8         2.7          3.9         1.2        1\n25          6.1         3.0          4.6         1.4        1\n26          5.2         4.1          1.5         0.1        0\n27          6.7         3.1          4.7         1.5        1\n28          6.7         3.3          5.7         2.5        2\n29          6.4         2.9          4.3         1.3        1",
      "text/html": "<div>\n<style scoped>\n    .dataframe tbody tr th:only-of-type {\n        vertical-align: middle;\n    }\n\n    .dataframe tbody tr th {\n        vertical-align: top;\n    }\n\n    .dataframe thead th {\n        text-align: right;\n    }\n</style>\n<table border=\"1\" class=\"dataframe\">\n  <thead>\n    <tr style=\"text-align: right;\">\n      <th></th>\n      <th>SepalLength</th>\n      <th>SepalWidth</th>\n      <th>PetalLength</th>\n      <th>PetalWidth</th>\n      <th>Species</th>\n    </tr>\n  </thead>\n  <tbody>\n    <tr>\n      <th>0</th>\n      <td>5.9</td>\n      <td>3.0</td>\n      <td>4.2</td>\n      <td>1.5</td>\n      <td>1</td>\n    </tr>\n    <tr>\n      <th>1</th>\n      <td>6.9</td>\n      <td>3.1</td>\n      <td>5.4</td>\n      <td>2.1</td>\n      <td>2</td>\n    </tr>\n    <tr>\n      <th>2</th>\n      <td>5.1</td>\n      <td>3.3</td>\n      <td>1.7</td>\n      <td>0.5</td>\n      <td>0</td>\n    </tr>\n    <tr>\n      <th>3</th>\n      <td>6.0</td>\n      <td>3.4</td>\n      <td>4.5</td>\n      <td>1.6</td>\n      <td>1</td>\n    </tr>\n    <tr>\n      <th>4</th>\n      <td>5.5</td>\n      <td>2.5</td>\n      <td>4.0</td>\n      <td>1.3</td>\n      <td>1</td>\n    </tr>\n    <tr>\n      <th>5</th>\n      <td>6.2</td>\n      <td>2.9</td>\n      <td>4.3</td>\n      <td>1.3</td>\n      <td>1</td>\n    </tr>\n    <tr>\n      <th>6</th>\n      <td>5.5</td>\n      <td>4.2</td>\n      <td>1.4</td>\n      <td>0.2</td>\n      <td>0</td>\n    </tr>\n    <tr>\n      <th>7</th>\n      <td>6.3</td>\n      <td>2.8</td>\n      <td>5.1</td>\n      <td>1.5</td>\n      <td>2</td>\n    </tr>\n    <tr>\n      <th>8</th>\n      <td>5.6</td>\n      <td>3.0</td>\n      <td>4.1</td>\n      <td>1.3</td>\n      <td>1</td>\n    </tr>\n    <tr>\n      <th>9</th>\n      <td>6.7</td>\n      <td>2.5</td>\n      <td>5.8</td>\n      <td>1.8</td>\n      <td>2</td>\n    </tr>\n    <tr>\n      <th>10</th>\n      <td>7.1</td>\n      <td>3.0</td>\n      <td>5.9</td>\n      <td>2.1</td>\n      <td>2</td>\n    </tr>\n    <tr>\n      <th>11</th>\n      <td>4.3</td>\n      <td>3.0</td>\n      <td>1.1</td>\n      <td>0.1</td>\n      <td>0</td>\n    </tr>\n    <tr>\n      <th>12</th>\n      <td>5.6</td>\n      <td>2.8</td>\n      <td>4.9</td>\n      <td>2.0</td>\n      <td>2</td>\n    </tr>\n    <tr>\n      <th>13</th>\n      <td>5.5</td>\n      <td>2.3</td>\n      <td>4.0</td>\n      <td>1.3</td>\n      <td>1</td>\n    </tr>\n    <tr>\n      <th>14</th>\n      <td>6.0</td>\n      <td>2.2</td>\n      <td>4.0</td>\n      <td>1.0</td>\n      <td>1</td>\n    </tr>\n    <tr>\n      <th>15</th>\n      <td>5.1</td>\n      <td>3.5</td>\n      <td>1.4</td>\n      <td>0.2</td>\n      <td>0</td>\n    </tr>\n    <tr>\n      <th>16</th>\n      <td>5.7</td>\n      <td>2.6</td>\n      <td>3.5</td>\n      <td>1.0</td>\n      <td>1</td>\n    </tr>\n    <tr>\n      <th>17</th>\n      <td>4.8</td>\n      <td>3.4</td>\n      <td>1.9</td>\n      <td>0.2</td>\n      <td>0</td>\n    </tr>\n    <tr>\n      <th>18</th>\n      <td>5.1</td>\n      <td>3.4</td>\n      <td>1.5</td>\n      <td>0.2</td>\n      <td>0</td>\n    </tr>\n    <tr>\n      <th>19</th>\n      <td>5.7</td>\n      <td>2.5</td>\n      <td>5.0</td>\n      <td>2.0</td>\n      <td>2</td>\n    </tr>\n    <tr>\n      <th>20</th>\n      <td>5.4</td>\n      <td>3.4</td>\n      <td>1.7</td>\n      <td>0.2</td>\n      <td>0</td>\n    </tr>\n    <tr>\n      <th>21</th>\n      <td>5.6</td>\n      <td>3.0</td>\n      <td>4.5</td>\n      <td>1.5</td>\n      <td>1</td>\n    </tr>\n    <tr>\n      <th>22</th>\n      <td>6.3</td>\n      <td>2.9</td>\n      <td>5.6</td>\n      <td>1.8</td>\n      <td>2</td>\n    </tr>\n    <tr>\n      <th>23</th>\n      <td>6.3</td>\n      <td>2.5</td>\n      <td>4.9</td>\n      <td>1.5</td>\n      <td>1</td>\n    </tr>\n    <tr>\n      <th>24</th>\n      <td>5.8</td>\n      <td>2.7</td>\n      <td>3.9</td>\n      <td>1.2</td>\n      <td>1</td>\n    </tr>\n    <tr>\n      <th>25</th>\n      <td>6.1</td>\n      <td>3.0</td>\n      <td>4.6</td>\n      <td>1.4</td>\n      <td>1</td>\n    </tr>\n    <tr>\n      <th>26</th>\n      <td>5.2</td>\n      <td>4.1</td>\n      <td>1.5</td>\n      <td>0.1</td>\n      <td>0</td>\n    </tr>\n    <tr>\n      <th>27</th>\n      <td>6.7</td>\n      <td>3.1</td>\n      <td>4.7</td>\n      <td>1.5</td>\n      <td>1</td>\n    </tr>\n    <tr>\n      <th>28</th>\n      <td>6.7</td>\n      <td>3.3</td>\n      <td>5.7</td>\n      <td>2.5</td>\n      <td>2</td>\n    </tr>\n    <tr>\n      <th>29</th>\n      <td>6.4</td>\n      <td>2.9</td>\n      <td>4.3</td>\n      <td>1.3</td>\n      <td>1</td>\n    </tr>\n  </tbody>\n</table>\n</div>"
     },
     "execution_count": 6,
     "metadata": {},
     "output_type": "execute_result"
    }
   ],
   "source": [
    "df_test"
   ],
   "metadata": {
    "collapsed": false,
    "ExecuteTime": {
     "end_time": "2023-07-23T15:27:08.517793Z",
     "start_time": "2023-07-23T15:27:08.508705Z"
    }
   }
  },
  {
   "cell_type": "code",
   "execution_count": 7,
   "outputs": [],
   "source": [
    "# Get th features and predictor variables\n",
    "y_train = df_train['Species']\n",
    "X_train = df_train.drop('Species', axis=1)\n",
    "\n",
    "y_test = df_test['Species']\n",
    "X_test = df_test.drop('Species', axis=1)"
   ],
   "metadata": {
    "collapsed": false,
    "ExecuteTime": {
     "end_time": "2023-07-23T15:27:09.153709Z",
     "start_time": "2023-07-23T15:27:09.145265Z"
    }
   }
  },
  {
   "cell_type": "code",
   "execution_count": 8,
   "outputs": [
    {
     "data": {
      "text/plain": "     SepalLength  SepalWidth  PetalLength  PetalWidth\n0            6.4         2.8          5.6         2.2\n1            5.0         2.3          3.3         1.0\n2            4.9         2.5          4.5         1.7\n3            4.9         3.1          1.5         0.1\n4            5.7         3.8          1.7         0.3\n..           ...         ...          ...         ...\n115          5.5         2.6          4.4         1.2\n116          5.7         3.0          4.2         1.2\n117          4.4         2.9          1.4         0.2\n118          4.8         3.0          1.4         0.1\n119          5.5         2.4          3.7         1.0\n\n[120 rows x 4 columns]",
      "text/html": "<div>\n<style scoped>\n    .dataframe tbody tr th:only-of-type {\n        vertical-align: middle;\n    }\n\n    .dataframe tbody tr th {\n        vertical-align: top;\n    }\n\n    .dataframe thead th {\n        text-align: right;\n    }\n</style>\n<table border=\"1\" class=\"dataframe\">\n  <thead>\n    <tr style=\"text-align: right;\">\n      <th></th>\n      <th>SepalLength</th>\n      <th>SepalWidth</th>\n      <th>PetalLength</th>\n      <th>PetalWidth</th>\n    </tr>\n  </thead>\n  <tbody>\n    <tr>\n      <th>0</th>\n      <td>6.4</td>\n      <td>2.8</td>\n      <td>5.6</td>\n      <td>2.2</td>\n    </tr>\n    <tr>\n      <th>1</th>\n      <td>5.0</td>\n      <td>2.3</td>\n      <td>3.3</td>\n      <td>1.0</td>\n    </tr>\n    <tr>\n      <th>2</th>\n      <td>4.9</td>\n      <td>2.5</td>\n      <td>4.5</td>\n      <td>1.7</td>\n    </tr>\n    <tr>\n      <th>3</th>\n      <td>4.9</td>\n      <td>3.1</td>\n      <td>1.5</td>\n      <td>0.1</td>\n    </tr>\n    <tr>\n      <th>4</th>\n      <td>5.7</td>\n      <td>3.8</td>\n      <td>1.7</td>\n      <td>0.3</td>\n    </tr>\n    <tr>\n      <th>...</th>\n      <td>...</td>\n      <td>...</td>\n      <td>...</td>\n      <td>...</td>\n    </tr>\n    <tr>\n      <th>115</th>\n      <td>5.5</td>\n      <td>2.6</td>\n      <td>4.4</td>\n      <td>1.2</td>\n    </tr>\n    <tr>\n      <th>116</th>\n      <td>5.7</td>\n      <td>3.0</td>\n      <td>4.2</td>\n      <td>1.2</td>\n    </tr>\n    <tr>\n      <th>117</th>\n      <td>4.4</td>\n      <td>2.9</td>\n      <td>1.4</td>\n      <td>0.2</td>\n    </tr>\n    <tr>\n      <th>118</th>\n      <td>4.8</td>\n      <td>3.0</td>\n      <td>1.4</td>\n      <td>0.1</td>\n    </tr>\n    <tr>\n      <th>119</th>\n      <td>5.5</td>\n      <td>2.4</td>\n      <td>3.7</td>\n      <td>1.0</td>\n    </tr>\n  </tbody>\n</table>\n<p>120 rows × 4 columns</p>\n</div>"
     },
     "execution_count": 8,
     "metadata": {},
     "output_type": "execute_result"
    }
   ],
   "source": [
    "X_train"
   ],
   "metadata": {
    "collapsed": false,
    "ExecuteTime": {
     "end_time": "2023-07-23T15:27:09.906899Z",
     "start_time": "2023-07-23T15:27:09.900189Z"
    }
   }
  },
  {
   "cell_type": "markdown",
   "source": [
    "## Step 1: Create an input function\n",
    "An input function is a function that returns a tf.data.Dataset object which outputs the following two-element tuple:\n",
    "\n",
    "features — A Python dictionary in which:\n",
    "(a)Each key is the name of a feature.\n",
    "(b)Each value is an array containing all of that feature’s values.\n",
    "\n",
    "label — An array containing the values of the label for every example.\n",
    "We’re using pandas for building input pipeline"
   ],
   "metadata": {
    "collapsed": false
   }
  },
  {
   "cell_type": "code",
   "execution_count": 9,
   "outputs": [],
   "source": [
    "def input_fn(df_features, df_labels, batch_size=256, training_mode=True):\n",
    "    # Convert the inputs Dataframes to a Dataset.\n",
    "    dataset = tf.data.Dataset.from_tensor_slices((dict(df_features), df_labels))\n",
    "    # Shuffle and repeat if you are in training mode.\n",
    "    if training_mode:\n",
    "        dataset = dataset.shuffle(1000).repeat()\n",
    "\n",
    "    return dataset.batch(batch_size)"
   ],
   "metadata": {
    "collapsed": false,
    "ExecuteTime": {
     "end_time": "2023-07-23T15:27:11.333096Z",
     "start_time": "2023-07-23T15:27:11.329085Z"
    }
   }
  },
  {
   "cell_type": "markdown",
   "source": [
    "## Step 2: Define the model’s feature columns\n",
    "A feature column is an object describing how the model should use raw input data from the features dictionary. When you build an Estimator model, we pass it a list of feature columns that describe each of the features you want the model to use. The tf.feature_column module provides many options for representing data to the model.\n",
    "\n",
    "For Iris, the 4 raw features are numeric values, so we’ll build a list of feature columns to tell the Estimator model to represent each of the four features as 32-bit floating-point values. Therefore, the code to create the feature column is:"
   ],
   "metadata": {
    "collapsed": false
   }
  },
  {
   "cell_type": "code",
   "execution_count": 10,
   "outputs": [],
   "source": [
    "# Feature columns describe how to use the input.\n",
    "feature_columns = []\n",
    "for key in X_train.keys():\n",
    "    feature_columns.append(tf.feature_column.numeric_column(key=key))"
   ],
   "metadata": {
    "collapsed": false,
    "ExecuteTime": {
     "end_time": "2023-07-23T15:27:12.614504Z",
     "start_time": "2023-07-23T15:27:12.610522Z"
    }
   }
  },
  {
   "cell_type": "markdown",
   "source": [
    "## Step 3: Instantiate the Estimator\n",
    "The Iris problem is a classic classification problem. Fortunately, TensorFlow provides several pre-made classifier Estimators, including:\n",
    "\n",
    "a. tf.estimator.DNNClassifier for deep models that perform multi-class classification.\n",
    "b. tf.estimator.DNNLinearCombinedClassifier for wide & deep models.\n",
    "c. tf.estimator.LinearClassifier for classifiers based on linear models.\n",
    "\n",
    "For the Iris problem, tf.estimator.DNNClassifier seems like the best choice. Here’s how we instantiated this Estimator:"
   ],
   "metadata": {
    "collapsed": false
   }
  },
  {
   "cell_type": "code",
   "execution_count": 40,
   "outputs": [],
   "source": [
    "# Build a DNN with 3 hidden layers with 30 nodes each.\n",
    "classifier_dir = tempfile.mkdtemp()\n",
    "classifier = tf.estimator.DNNLinearCombinedClassifier(\n",
    "    model_dir=classifier_dir,\n",
    "    dnn_feature_columns=feature_columns,\n",
    "    dnn_activation_fn= tf.nn.relu,\n",
    "    # ('Adagrad', 'Adam', 'Ftrl', 'RMSProp', 'SGD')\n",
    "    dnn_optimizer='Adagrad',\n",
    "    # Three hidden layers of 30 nodes each.\n",
    "    dnn_hidden_units=[30, 30, 30],\n",
    "    # The model must choose between 3 classes.\n",
    "    n_classes=3)\n"
   ],
   "metadata": {
    "collapsed": false,
    "ExecuteTime": {
     "end_time": "2023-07-23T15:36:23.894650Z",
     "start_time": "2023-07-23T15:36:23.884603Z"
    }
   }
  },
  {
   "cell_type": "markdown",
   "source": [
    "## Step 4: Train, Evaluate, and Predict"
   ],
   "metadata": {
    "collapsed": false
   }
  },
  {
   "cell_type": "code",
   "execution_count": 38,
   "outputs": [
    {
     "data": {
      "text/plain": "<tensorflow_estimator.python.estimator.canned.dnn_linear_combined.DNNLinearCombinedClassifierV2 at 0x173344ac0>"
     },
     "execution_count": 38,
     "metadata": {},
     "output_type": "execute_result"
    }
   ],
   "source": [
    "# Train the Model.\n",
    "classifier.train(\n",
    "    input_fn=lambda: input_fn(X_train, y_train, training_mode=True),\n",
    "    steps=5000)"
   ],
   "metadata": {
    "collapsed": false,
    "ExecuteTime": {
     "end_time": "2023-07-23T15:36:05.421485Z",
     "start_time": "2023-07-23T15:35:54.040801Z"
    }
   }
  },
  {
   "cell_type": "code",
   "execution_count": 39,
   "outputs": [
    {
     "name": "stdout",
     "output_type": "stream",
     "text": [
      "\n",
      "Test set accuracy: 0.967\n",
      "\n",
      "accuracy : 0.96666664\n",
      "average_loss : 0.13513869\n",
      "loss : 0.13513869\n",
      "global_step : 5000\n"
     ]
    }
   ],
   "source": [
    "# Evaluates the accuracy of the trained model on the test data\n",
    "eval_result = classifier.evaluate(input_fn=lambda: input_fn(X_test, y_test, training_mode=False))\n",
    "print('\\nTest set accuracy: {accuracy:0.3f}\\n'.format(**eval_result))\n",
    "for key, value in eval_result.items():\n",
    "    print(key, \":\", value)"
   ],
   "metadata": {
    "collapsed": false,
    "ExecuteTime": {
     "end_time": "2023-07-23T15:36:10.289899Z",
     "start_time": "2023-07-23T15:36:08.115883Z"
    }
   }
  },
  {
   "cell_type": "code",
   "execution_count": 14,
   "outputs": [],
   "source": [
    "# Generate predictions from the model\n",
    "expected = ['Setosa', 'Versicolor', 'Virginica']\n",
    "\n",
    "X_predict = {\n",
    "    'SepalLength': [5.1, 5.9, 6.9],\n",
    "    'SepalWidth': [3.3, 3.0, 3.1],\n",
    "    'PetalLength': [1.7, 4.2, 5.4],\n",
    "    'PetalWidth': [0.5, 1.5, 2.1],\n",
    "}\n",
    "\n",
    "def prediction_input_fn(features, batch_size=256):\n",
    "    # Convert the inputs to a Dataset without labels.\n",
    "    dataset = tf.data.Dataset.from_tensor_slices(dict(features))\n",
    "\n",
    "    return dataset.batch(batch_size)\n",
    "\n",
    "predictions = classifier.predict(\n",
    "        input_fn=lambda: prediction_input_fn(X_predict))"
   ],
   "metadata": {
    "collapsed": false,
    "ExecuteTime": {
     "end_time": "2023-07-23T15:27:39.836996Z",
     "start_time": "2023-07-23T15:27:39.829271Z"
    }
   }
  },
  {
   "cell_type": "code",
   "execution_count": 15,
   "outputs": [
    {
     "name": "stdout",
     "output_type": "stream",
     "text": [
      "Prediction is \"Setosa\" (90.9%), expected \"Setosa\"\n",
      "Prediction is \"Versicolor\" (61.0%), expected \"Versicolor\"\n",
      "Prediction is \"Virginica\" (67.1%), expected \"Virginica\"\n"
     ]
    }
   ],
   "source": [
    "# Get predictions and their probabilities\n",
    "for pred_dict, expec in zip(predictions, expected):\n",
    "    class_id = pred_dict['class_ids'][0]\n",
    "    probability = pred_dict['probabilities'][class_id]\n",
    "    print('Prediction is \"{}\" ({:.1f}%), expected \"{}\"'.format(SPECIES[class_id], 100 * probability, expec))"
   ],
   "metadata": {
    "collapsed": false,
    "ExecuteTime": {
     "end_time": "2023-07-23T15:27:41.221440Z",
     "start_time": "2023-07-23T15:27:40.692496Z"
    }
   }
  },
  {
   "cell_type": "code",
   "execution_count": null,
   "outputs": [],
   "source": [],
   "metadata": {
    "collapsed": false
   }
  }
 ],
 "metadata": {
  "kernelspec": {
   "display_name": "Python 3",
   "language": "python",
   "name": "python3"
  },
  "language_info": {
   "codemirror_mode": {
    "name": "ipython",
    "version": 2
   },
   "file_extension": ".py",
   "mimetype": "text/x-python",
   "name": "python",
   "nbconvert_exporter": "python",
   "pygments_lexer": "ipython2",
   "version": "2.7.6"
  }
 },
 "nbformat": 4,
 "nbformat_minor": 0
}
