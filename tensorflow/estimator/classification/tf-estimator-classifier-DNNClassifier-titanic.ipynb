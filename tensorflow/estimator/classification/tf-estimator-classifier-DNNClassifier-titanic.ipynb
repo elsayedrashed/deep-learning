{
 "cells": [
  {
   "cell_type": "markdown",
   "source": [
    "## Classifier using tf.estimator.DNNClassifier\n",
    "https://www.tensorflow.org/tutorials/estimator/linear\n",
    "https://towardsai.net/p/machine-learning/tf-estimator-a-tensorflow-high-level-api\n"
   ],
   "metadata": {
    "collapsed": false
   }
  },
  {
   "cell_type": "code",
   "execution_count": 1,
   "outputs": [],
   "source": [
    "import tensorflow as tf\n",
    "import pandas as pd\n",
    "import tempfile"
   ],
   "metadata": {
    "collapsed": false,
    "ExecuteTime": {
     "end_time": "2023-07-23T15:14:32.316806Z",
     "start_time": "2023-07-23T15:14:24.682508Z"
    }
   }
  },
  {
   "cell_type": "code",
   "execution_count": 2,
   "outputs": [],
   "source": [
    "import warnings\n",
    "warnings.filterwarnings('ignore')"
   ],
   "metadata": {
    "collapsed": false,
    "ExecuteTime": {
     "end_time": "2023-07-23T15:14:34.323006Z",
     "start_time": "2023-07-23T15:14:34.314548Z"
    }
   }
  },
  {
   "cell_type": "code",
   "execution_count": 3,
   "outputs": [],
   "source": [
    "tf.get_logger().setLevel('ERROR')"
   ],
   "metadata": {
    "collapsed": false,
    "ExecuteTime": {
     "end_time": "2023-07-23T15:14:35.082474Z",
     "start_time": "2023-07-23T15:14:35.077888Z"
    }
   }
  },
  {
   "cell_type": "markdown",
   "source": [
    "## Get Training Data"
   ],
   "metadata": {
    "collapsed": false
   }
  },
  {
   "cell_type": "code",
   "execution_count": 4,
   "outputs": [],
   "source": [
    "train_path = tf.keras.utils.get_file(\"train.csv\", \"https://storage.googleapis.com/tf-datasets/titanic/train.csv\")\n",
    "test_path = tf.keras.utils.get_file(\"test.csv\", \"https://storage.googleapis.com/tf-datasets/titanic/eval.csv\")\n",
    "\n",
    "df_train = pd.read_csv(train_path)\n",
    "df_test = pd.read_csv(test_path)"
   ],
   "metadata": {
    "collapsed": false,
    "ExecuteTime": {
     "end_time": "2023-07-23T15:14:36.777986Z",
     "start_time": "2023-07-23T15:14:36.701002Z"
    }
   }
  },
  {
   "cell_type": "code",
   "execution_count": 5,
   "outputs": [
    {
     "data": {
      "text/plain": "     survived     sex   age  n_siblings_spouses  parch     fare   class  \\\n0           0    male  22.0                   1      0   7.2500   Third   \n1           1  female  38.0                   1      0  71.2833   First   \n2           1  female  26.0                   0      0   7.9250   Third   \n3           1  female  35.0                   1      0  53.1000   First   \n4           0    male  28.0                   0      0   8.4583   Third   \n..        ...     ...   ...                 ...    ...      ...     ...   \n622         0    male  28.0                   0      0  10.5000  Second   \n623         0    male  25.0                   0      0   7.0500   Third   \n624         1  female  19.0                   0      0  30.0000   First   \n625         0  female  28.0                   1      2  23.4500   Third   \n626         0    male  32.0                   0      0   7.7500   Third   \n\n        deck  embark_town alone  \n0    unknown  Southampton     n  \n1          C    Cherbourg     n  \n2    unknown  Southampton     y  \n3          C  Southampton     n  \n4    unknown   Queenstown     y  \n..       ...          ...   ...  \n622  unknown  Southampton     y  \n623  unknown  Southampton     y  \n624        B  Southampton     y  \n625  unknown  Southampton     n  \n626  unknown   Queenstown     y  \n\n[627 rows x 10 columns]",
      "text/html": "<div>\n<style scoped>\n    .dataframe tbody tr th:only-of-type {\n        vertical-align: middle;\n    }\n\n    .dataframe tbody tr th {\n        vertical-align: top;\n    }\n\n    .dataframe thead th {\n        text-align: right;\n    }\n</style>\n<table border=\"1\" class=\"dataframe\">\n  <thead>\n    <tr style=\"text-align: right;\">\n      <th></th>\n      <th>survived</th>\n      <th>sex</th>\n      <th>age</th>\n      <th>n_siblings_spouses</th>\n      <th>parch</th>\n      <th>fare</th>\n      <th>class</th>\n      <th>deck</th>\n      <th>embark_town</th>\n      <th>alone</th>\n    </tr>\n  </thead>\n  <tbody>\n    <tr>\n      <th>0</th>\n      <td>0</td>\n      <td>male</td>\n      <td>22.0</td>\n      <td>1</td>\n      <td>0</td>\n      <td>7.2500</td>\n      <td>Third</td>\n      <td>unknown</td>\n      <td>Southampton</td>\n      <td>n</td>\n    </tr>\n    <tr>\n      <th>1</th>\n      <td>1</td>\n      <td>female</td>\n      <td>38.0</td>\n      <td>1</td>\n      <td>0</td>\n      <td>71.2833</td>\n      <td>First</td>\n      <td>C</td>\n      <td>Cherbourg</td>\n      <td>n</td>\n    </tr>\n    <tr>\n      <th>2</th>\n      <td>1</td>\n      <td>female</td>\n      <td>26.0</td>\n      <td>0</td>\n      <td>0</td>\n      <td>7.9250</td>\n      <td>Third</td>\n      <td>unknown</td>\n      <td>Southampton</td>\n      <td>y</td>\n    </tr>\n    <tr>\n      <th>3</th>\n      <td>1</td>\n      <td>female</td>\n      <td>35.0</td>\n      <td>1</td>\n      <td>0</td>\n      <td>53.1000</td>\n      <td>First</td>\n      <td>C</td>\n      <td>Southampton</td>\n      <td>n</td>\n    </tr>\n    <tr>\n      <th>4</th>\n      <td>0</td>\n      <td>male</td>\n      <td>28.0</td>\n      <td>0</td>\n      <td>0</td>\n      <td>8.4583</td>\n      <td>Third</td>\n      <td>unknown</td>\n      <td>Queenstown</td>\n      <td>y</td>\n    </tr>\n    <tr>\n      <th>...</th>\n      <td>...</td>\n      <td>...</td>\n      <td>...</td>\n      <td>...</td>\n      <td>...</td>\n      <td>...</td>\n      <td>...</td>\n      <td>...</td>\n      <td>...</td>\n      <td>...</td>\n    </tr>\n    <tr>\n      <th>622</th>\n      <td>0</td>\n      <td>male</td>\n      <td>28.0</td>\n      <td>0</td>\n      <td>0</td>\n      <td>10.5000</td>\n      <td>Second</td>\n      <td>unknown</td>\n      <td>Southampton</td>\n      <td>y</td>\n    </tr>\n    <tr>\n      <th>623</th>\n      <td>0</td>\n      <td>male</td>\n      <td>25.0</td>\n      <td>0</td>\n      <td>0</td>\n      <td>7.0500</td>\n      <td>Third</td>\n      <td>unknown</td>\n      <td>Southampton</td>\n      <td>y</td>\n    </tr>\n    <tr>\n      <th>624</th>\n      <td>1</td>\n      <td>female</td>\n      <td>19.0</td>\n      <td>0</td>\n      <td>0</td>\n      <td>30.0000</td>\n      <td>First</td>\n      <td>B</td>\n      <td>Southampton</td>\n      <td>y</td>\n    </tr>\n    <tr>\n      <th>625</th>\n      <td>0</td>\n      <td>female</td>\n      <td>28.0</td>\n      <td>1</td>\n      <td>2</td>\n      <td>23.4500</td>\n      <td>Third</td>\n      <td>unknown</td>\n      <td>Southampton</td>\n      <td>n</td>\n    </tr>\n    <tr>\n      <th>626</th>\n      <td>0</td>\n      <td>male</td>\n      <td>32.0</td>\n      <td>0</td>\n      <td>0</td>\n      <td>7.7500</td>\n      <td>Third</td>\n      <td>unknown</td>\n      <td>Queenstown</td>\n      <td>y</td>\n    </tr>\n  </tbody>\n</table>\n<p>627 rows × 10 columns</p>\n</div>"
     },
     "execution_count": 5,
     "metadata": {},
     "output_type": "execute_result"
    }
   ],
   "source": [
    "df_train"
   ],
   "metadata": {
    "collapsed": false,
    "ExecuteTime": {
     "end_time": "2023-07-23T15:14:37.599986Z",
     "start_time": "2023-07-23T15:14:37.576820Z"
    }
   }
  },
  {
   "cell_type": "code",
   "execution_count": 6,
   "outputs": [
    {
     "data": {
      "text/plain": "     survived     sex   age  n_siblings_spouses  parch     fare   class  \\\n0           0    male  35.0                   0      0   8.0500   Third   \n1           0    male  54.0                   0      0  51.8625   First   \n2           1  female  58.0                   0      0  26.5500   First   \n3           1  female  55.0                   0      0  16.0000  Second   \n4           1    male  34.0                   0      0  13.0000  Second   \n..        ...     ...   ...                 ...    ...      ...     ...   \n259         1  female  25.0                   0      1  26.0000  Second   \n260         0    male  33.0                   0      0   7.8958   Third   \n261         0  female  39.0                   0      5  29.1250   Third   \n262         0    male  27.0                   0      0  13.0000  Second   \n263         1    male  26.0                   0      0  30.0000   First   \n\n        deck  embark_town alone  \n0    unknown  Southampton     y  \n1          E  Southampton     y  \n2          C  Southampton     y  \n3    unknown  Southampton     y  \n4          D  Southampton     y  \n..       ...          ...   ...  \n259  unknown  Southampton     n  \n260  unknown  Southampton     y  \n261  unknown   Queenstown     n  \n262  unknown  Southampton     y  \n263        C    Cherbourg     y  \n\n[264 rows x 10 columns]",
      "text/html": "<div>\n<style scoped>\n    .dataframe tbody tr th:only-of-type {\n        vertical-align: middle;\n    }\n\n    .dataframe tbody tr th {\n        vertical-align: top;\n    }\n\n    .dataframe thead th {\n        text-align: right;\n    }\n</style>\n<table border=\"1\" class=\"dataframe\">\n  <thead>\n    <tr style=\"text-align: right;\">\n      <th></th>\n      <th>survived</th>\n      <th>sex</th>\n      <th>age</th>\n      <th>n_siblings_spouses</th>\n      <th>parch</th>\n      <th>fare</th>\n      <th>class</th>\n      <th>deck</th>\n      <th>embark_town</th>\n      <th>alone</th>\n    </tr>\n  </thead>\n  <tbody>\n    <tr>\n      <th>0</th>\n      <td>0</td>\n      <td>male</td>\n      <td>35.0</td>\n      <td>0</td>\n      <td>0</td>\n      <td>8.0500</td>\n      <td>Third</td>\n      <td>unknown</td>\n      <td>Southampton</td>\n      <td>y</td>\n    </tr>\n    <tr>\n      <th>1</th>\n      <td>0</td>\n      <td>male</td>\n      <td>54.0</td>\n      <td>0</td>\n      <td>0</td>\n      <td>51.8625</td>\n      <td>First</td>\n      <td>E</td>\n      <td>Southampton</td>\n      <td>y</td>\n    </tr>\n    <tr>\n      <th>2</th>\n      <td>1</td>\n      <td>female</td>\n      <td>58.0</td>\n      <td>0</td>\n      <td>0</td>\n      <td>26.5500</td>\n      <td>First</td>\n      <td>C</td>\n      <td>Southampton</td>\n      <td>y</td>\n    </tr>\n    <tr>\n      <th>3</th>\n      <td>1</td>\n      <td>female</td>\n      <td>55.0</td>\n      <td>0</td>\n      <td>0</td>\n      <td>16.0000</td>\n      <td>Second</td>\n      <td>unknown</td>\n      <td>Southampton</td>\n      <td>y</td>\n    </tr>\n    <tr>\n      <th>4</th>\n      <td>1</td>\n      <td>male</td>\n      <td>34.0</td>\n      <td>0</td>\n      <td>0</td>\n      <td>13.0000</td>\n      <td>Second</td>\n      <td>D</td>\n      <td>Southampton</td>\n      <td>y</td>\n    </tr>\n    <tr>\n      <th>...</th>\n      <td>...</td>\n      <td>...</td>\n      <td>...</td>\n      <td>...</td>\n      <td>...</td>\n      <td>...</td>\n      <td>...</td>\n      <td>...</td>\n      <td>...</td>\n      <td>...</td>\n    </tr>\n    <tr>\n      <th>259</th>\n      <td>1</td>\n      <td>female</td>\n      <td>25.0</td>\n      <td>0</td>\n      <td>1</td>\n      <td>26.0000</td>\n      <td>Second</td>\n      <td>unknown</td>\n      <td>Southampton</td>\n      <td>n</td>\n    </tr>\n    <tr>\n      <th>260</th>\n      <td>0</td>\n      <td>male</td>\n      <td>33.0</td>\n      <td>0</td>\n      <td>0</td>\n      <td>7.8958</td>\n      <td>Third</td>\n      <td>unknown</td>\n      <td>Southampton</td>\n      <td>y</td>\n    </tr>\n    <tr>\n      <th>261</th>\n      <td>0</td>\n      <td>female</td>\n      <td>39.0</td>\n      <td>0</td>\n      <td>5</td>\n      <td>29.1250</td>\n      <td>Third</td>\n      <td>unknown</td>\n      <td>Queenstown</td>\n      <td>n</td>\n    </tr>\n    <tr>\n      <th>262</th>\n      <td>0</td>\n      <td>male</td>\n      <td>27.0</td>\n      <td>0</td>\n      <td>0</td>\n      <td>13.0000</td>\n      <td>Second</td>\n      <td>unknown</td>\n      <td>Southampton</td>\n      <td>y</td>\n    </tr>\n    <tr>\n      <th>263</th>\n      <td>1</td>\n      <td>male</td>\n      <td>26.0</td>\n      <td>0</td>\n      <td>0</td>\n      <td>30.0000</td>\n      <td>First</td>\n      <td>C</td>\n      <td>Cherbourg</td>\n      <td>y</td>\n    </tr>\n  </tbody>\n</table>\n<p>264 rows × 10 columns</p>\n</div>"
     },
     "execution_count": 6,
     "metadata": {},
     "output_type": "execute_result"
    }
   ],
   "source": [
    "df_test"
   ],
   "metadata": {
    "collapsed": false,
    "ExecuteTime": {
     "end_time": "2023-07-23T15:14:38.666513Z",
     "start_time": "2023-07-23T15:14:38.653978Z"
    }
   }
  },
  {
   "cell_type": "code",
   "execution_count": 7,
   "outputs": [],
   "source": [
    "# Get th features and predictor variables\n",
    "y_train = df_train['survived']\n",
    "X_train = df_train.drop('survived', axis=1)\n",
    "\n",
    "y_test = df_test['survived']\n",
    "X_test = df_test.drop('survived', axis=1)"
   ],
   "metadata": {
    "collapsed": false,
    "ExecuteTime": {
     "end_time": "2023-07-23T15:14:39.506574Z",
     "start_time": "2023-07-23T15:14:39.497004Z"
    }
   }
  },
  {
   "cell_type": "code",
   "execution_count": 8,
   "outputs": [
    {
     "data": {
      "text/plain": "        sex   age  n_siblings_spouses  parch     fare   class     deck  \\\n0      male  22.0                   1      0   7.2500   Third  unknown   \n1    female  38.0                   1      0  71.2833   First        C   \n2    female  26.0                   0      0   7.9250   Third  unknown   \n3    female  35.0                   1      0  53.1000   First        C   \n4      male  28.0                   0      0   8.4583   Third  unknown   \n..      ...   ...                 ...    ...      ...     ...      ...   \n622    male  28.0                   0      0  10.5000  Second  unknown   \n623    male  25.0                   0      0   7.0500   Third  unknown   \n624  female  19.0                   0      0  30.0000   First        B   \n625  female  28.0                   1      2  23.4500   Third  unknown   \n626    male  32.0                   0      0   7.7500   Third  unknown   \n\n     embark_town alone  \n0    Southampton     n  \n1      Cherbourg     n  \n2    Southampton     y  \n3    Southampton     n  \n4     Queenstown     y  \n..           ...   ...  \n622  Southampton     y  \n623  Southampton     y  \n624  Southampton     y  \n625  Southampton     n  \n626   Queenstown     y  \n\n[627 rows x 9 columns]",
      "text/html": "<div>\n<style scoped>\n    .dataframe tbody tr th:only-of-type {\n        vertical-align: middle;\n    }\n\n    .dataframe tbody tr th {\n        vertical-align: top;\n    }\n\n    .dataframe thead th {\n        text-align: right;\n    }\n</style>\n<table border=\"1\" class=\"dataframe\">\n  <thead>\n    <tr style=\"text-align: right;\">\n      <th></th>\n      <th>sex</th>\n      <th>age</th>\n      <th>n_siblings_spouses</th>\n      <th>parch</th>\n      <th>fare</th>\n      <th>class</th>\n      <th>deck</th>\n      <th>embark_town</th>\n      <th>alone</th>\n    </tr>\n  </thead>\n  <tbody>\n    <tr>\n      <th>0</th>\n      <td>male</td>\n      <td>22.0</td>\n      <td>1</td>\n      <td>0</td>\n      <td>7.2500</td>\n      <td>Third</td>\n      <td>unknown</td>\n      <td>Southampton</td>\n      <td>n</td>\n    </tr>\n    <tr>\n      <th>1</th>\n      <td>female</td>\n      <td>38.0</td>\n      <td>1</td>\n      <td>0</td>\n      <td>71.2833</td>\n      <td>First</td>\n      <td>C</td>\n      <td>Cherbourg</td>\n      <td>n</td>\n    </tr>\n    <tr>\n      <th>2</th>\n      <td>female</td>\n      <td>26.0</td>\n      <td>0</td>\n      <td>0</td>\n      <td>7.9250</td>\n      <td>Third</td>\n      <td>unknown</td>\n      <td>Southampton</td>\n      <td>y</td>\n    </tr>\n    <tr>\n      <th>3</th>\n      <td>female</td>\n      <td>35.0</td>\n      <td>1</td>\n      <td>0</td>\n      <td>53.1000</td>\n      <td>First</td>\n      <td>C</td>\n      <td>Southampton</td>\n      <td>n</td>\n    </tr>\n    <tr>\n      <th>4</th>\n      <td>male</td>\n      <td>28.0</td>\n      <td>0</td>\n      <td>0</td>\n      <td>8.4583</td>\n      <td>Third</td>\n      <td>unknown</td>\n      <td>Queenstown</td>\n      <td>y</td>\n    </tr>\n    <tr>\n      <th>...</th>\n      <td>...</td>\n      <td>...</td>\n      <td>...</td>\n      <td>...</td>\n      <td>...</td>\n      <td>...</td>\n      <td>...</td>\n      <td>...</td>\n      <td>...</td>\n    </tr>\n    <tr>\n      <th>622</th>\n      <td>male</td>\n      <td>28.0</td>\n      <td>0</td>\n      <td>0</td>\n      <td>10.5000</td>\n      <td>Second</td>\n      <td>unknown</td>\n      <td>Southampton</td>\n      <td>y</td>\n    </tr>\n    <tr>\n      <th>623</th>\n      <td>male</td>\n      <td>25.0</td>\n      <td>0</td>\n      <td>0</td>\n      <td>7.0500</td>\n      <td>Third</td>\n      <td>unknown</td>\n      <td>Southampton</td>\n      <td>y</td>\n    </tr>\n    <tr>\n      <th>624</th>\n      <td>female</td>\n      <td>19.0</td>\n      <td>0</td>\n      <td>0</td>\n      <td>30.0000</td>\n      <td>First</td>\n      <td>B</td>\n      <td>Southampton</td>\n      <td>y</td>\n    </tr>\n    <tr>\n      <th>625</th>\n      <td>female</td>\n      <td>28.0</td>\n      <td>1</td>\n      <td>2</td>\n      <td>23.4500</td>\n      <td>Third</td>\n      <td>unknown</td>\n      <td>Southampton</td>\n      <td>n</td>\n    </tr>\n    <tr>\n      <th>626</th>\n      <td>male</td>\n      <td>32.0</td>\n      <td>0</td>\n      <td>0</td>\n      <td>7.7500</td>\n      <td>Third</td>\n      <td>unknown</td>\n      <td>Queenstown</td>\n      <td>y</td>\n    </tr>\n  </tbody>\n</table>\n<p>627 rows × 9 columns</p>\n</div>"
     },
     "execution_count": 8,
     "metadata": {},
     "output_type": "execute_result"
    }
   ],
   "source": [
    "X_train"
   ],
   "metadata": {
    "collapsed": false,
    "ExecuteTime": {
     "end_time": "2023-07-23T15:14:40.457743Z",
     "start_time": "2023-07-23T15:14:40.436813Z"
    }
   }
  },
  {
   "cell_type": "markdown",
   "source": [
    "## Step 1: Create an input function\n",
    "An input function is a function that returns a tf.data.Dataset object which outputs the following two-element tuple:\n",
    "\n",
    "features — A Python dictionary in which:\n",
    "(a)Each key is the name of a feature.\n",
    "(b)Each value is an array containing all of that feature’s values.\n",
    "\n",
    "label — An array containing the values of the label for every example.\n",
    "We’re using pandas for building input pipeline"
   ],
   "metadata": {
    "collapsed": false
   }
  },
  {
   "cell_type": "code",
   "execution_count": 9,
   "outputs": [],
   "source": [
    "def input_fn(df_features, df_labels, batch_size=256, training_mode=True):\n",
    "    # Convert the inputs Dataframes to a Dataset.\n",
    "    dataset = tf.data.Dataset.from_tensor_slices((dict(df_features), df_labels))\n",
    "    # Shuffle and repeat if you are in training mode.\n",
    "    if training_mode:\n",
    "        dataset = dataset.shuffle(1000).repeat()\n",
    "\n",
    "    return dataset.batch(batch_size)"
   ],
   "metadata": {
    "collapsed": false,
    "ExecuteTime": {
     "end_time": "2023-07-23T15:14:42.717401Z",
     "start_time": "2023-07-23T15:14:42.712153Z"
    }
   }
  },
  {
   "cell_type": "markdown",
   "source": [
    "## Step 2: Define the model’s feature columns\n",
    "A feature column is an object describing how the model should use raw input data from the features dictionary. When you build an Estimator model, we pass it a list of feature columns that describe each of the features you want the model to use. The tf.feature_column module provides many options for representing data to the model.\n",
    "\n",
    "For Iris, the 4 raw features are numeric values, so we’ll build a list of feature columns to tell the Estimator model to represent each of the four features as 32-bit floating-point values. Therefore, the code to create the feature column is:"
   ],
   "metadata": {
    "collapsed": false
   }
  },
  {
   "cell_type": "code",
   "execution_count": 10,
   "outputs": [],
   "source": [
    "# Feature columns describe how to use the input.\n",
    "CATEGORICAL_COLUMNS = ['sex', 'n_siblings_spouses', 'parch', 'class', 'deck','embark_town', 'alone']\n",
    "NUMERIC_COLUMNS = ['age', 'fare']\n",
    "\n",
    "feature_columns = []\n",
    "for feature_name in CATEGORICAL_COLUMNS:\n",
    "    vocabulary = X_train[feature_name].unique()\n",
    "    categorical_column = tf.feature_column.categorical_column_with_vocabulary_list(key=feature_name, vocabulary_list=vocabulary)\n",
    "    # Map categorical column to numeric values - one-hot encoding/vector\n",
    "    feature_columns.append(tf.feature_column.indicator_column(categorical_column))\n",
    "\n",
    "for feature_name in NUMERIC_COLUMNS:\n",
    "    feature_columns.append(tf.feature_column.numeric_column(feature_name, dtype=tf.float32))"
   ],
   "metadata": {
    "collapsed": false,
    "ExecuteTime": {
     "end_time": "2023-07-23T15:14:44.221949Z",
     "start_time": "2023-07-23T15:14:44.212967Z"
    }
   }
  },
  {
   "cell_type": "markdown",
   "source": [
    "## Step 3: Instantiate the Estimator\n",
    "The Iris problem is a classic classification problem. Fortunately, TensorFlow provides several pre-made classifier Estimators, including:\n",
    "\n",
    "a. tf.estimator.DNNClassifier for deep models that perform multi-class classification.\n",
    "b. tf.estimator.DNNLinearCombinedClassifier for wide & deep models.\n",
    "c. tf.estimator.LinearClassifier for classifiers based on linear models.\n",
    "\n",
    "For the Iris problem, tf.estimator.DNNClassifier seems like the best choice. Here’s how we instantiated this Estimator:"
   ],
   "metadata": {
    "collapsed": false
   }
  },
  {
   "cell_type": "code",
   "execution_count": 11,
   "outputs": [],
   "source": [
    "# Build a DNN with 3 hidden layers with 30 nodes each.\n",
    "classifier_dir = tempfile.mkdtemp()\n",
    "classifier = tf.estimator.DNNClassifier(\n",
    "    model_dir=classifier_dir,\n",
    "    feature_columns=feature_columns,\n",
    "    optimizer='Adagrad', # ('Adagrad', 'Adam', 'Ftrl', 'RMSProp', SGD')\n",
    "    activation_fn=tf.nn.relu,\n",
    "    loss_reduction=tf.losses.Reduction.SUM_OVER_BATCH_SIZE,\n",
    "    # Three hidden layers of 30 nodes each.\n",
    "    hidden_units=[30, 30, 30],\n",
    "    # The model must choose between 3 classes.\n",
    "    n_classes=3)"
   ],
   "metadata": {
    "collapsed": false,
    "ExecuteTime": {
     "end_time": "2023-07-23T15:14:46.215429Z",
     "start_time": "2023-07-23T15:14:45.986068Z"
    }
   }
  },
  {
   "cell_type": "markdown",
   "source": [
    "## Step 4: Train and  Evaluate"
   ],
   "metadata": {
    "collapsed": false
   }
  },
  {
   "cell_type": "code",
   "execution_count": 12,
   "outputs": [
    {
     "data": {
      "text/plain": "<tensorflow_estimator.python.estimator.canned.dnn.DNNClassifierV2 at 0x171fdab30>"
     },
     "execution_count": 12,
     "metadata": {},
     "output_type": "execute_result"
    }
   ],
   "source": [
    "# Train the Model.\n",
    "classifier.train(\n",
    "    input_fn=lambda: input_fn(X_train, y_train, training_mode=True),\n",
    "    steps=5000)"
   ],
   "metadata": {
    "collapsed": false,
    "ExecuteTime": {
     "end_time": "2023-07-23T15:15:04.883771Z",
     "start_time": "2023-07-23T15:14:48.269393Z"
    }
   }
  },
  {
   "cell_type": "code",
   "execution_count": 13,
   "outputs": [
    {
     "name": "stdout",
     "output_type": "stream",
     "text": [
      "\n",
      "Test set accuracy: 0.754\n",
      "\n",
      "accuracy : 0.7537879\n",
      "average_loss : 0.4937388\n",
      "loss : 0.45646796\n",
      "global_step : 5000\n"
     ]
    }
   ],
   "source": [
    "# Evaluates the accuracy of the trained model on the test data\n",
    "eval_result = classifier.evaluate(input_fn=lambda: input_fn(X_test, y_test, training_mode=False))\n",
    "print('\\nTest set accuracy: {accuracy:0.3f}\\n'.format(**eval_result))\n",
    "for key, value in eval_result.items():\n",
    "    print(key, \":\", value)"
   ],
   "metadata": {
    "collapsed": false,
    "ExecuteTime": {
     "end_time": "2023-07-23T15:15:10.689408Z",
     "start_time": "2023-07-23T15:15:06.682824Z"
    }
   }
  },
  {
   "cell_type": "markdown",
   "source": [
    "## Step 5: Prediction"
   ],
   "metadata": {
    "collapsed": false
   }
  },
  {
   "cell_type": "code",
   "execution_count": 14,
   "outputs": [],
   "source": [
    "# Define Prediction input data function\n",
    "def prediction_input_fn(features, batch_size=256):\n",
    "    # Convert the inputs to a Dataset without labels.\n",
    "    dataset = tf.data.Dataset.from_tensor_slices(dict(features))\n",
    "\n",
    "    return dataset.batch(batch_size)"
   ],
   "metadata": {
    "collapsed": false,
    "ExecuteTime": {
     "end_time": "2023-07-23T15:15:17.302087Z",
     "start_time": "2023-07-23T15:15:17.294838Z"
    }
   }
  },
  {
   "cell_type": "code",
   "execution_count": 15,
   "outputs": [],
   "source": [
    "X_predict= X_test.sample(10)\n",
    "# Generate predictions from the model\n",
    "predictions = classifier.predict(input_fn=lambda: prediction_input_fn(X_predict))"
   ],
   "metadata": {
    "collapsed": false,
    "ExecuteTime": {
     "end_time": "2023-07-23T15:15:18.201413Z",
     "start_time": "2023-07-23T15:15:18.197153Z"
    }
   }
  },
  {
   "cell_type": "code",
   "execution_count": 16,
   "outputs": [
    {
     "name": "stdout",
     "output_type": "stream",
     "text": [
      "Prediction is \"0\" (87.5%)\"\n",
      "Prediction is \"0\" (77.9%)\"\n",
      "Prediction is \"1\" (64.3%)\"\n",
      "Prediction is \"0\" (82.4%)\"\n",
      "Prediction is \"1\" (76.7%)\"\n",
      "Prediction is \"0\" (58.9%)\"\n",
      "Prediction is \"0\" (50.9%)\"\n",
      "Prediction is \"0\" (55.6%)\"\n",
      "Prediction is \"0\" (83.5%)\"\n",
      "Prediction is \"0\" (84.1%)\"\n"
     ]
    }
   ],
   "source": [
    "# Get predictions and their probabilities\n",
    "for pred_dict in predictions:\n",
    "    class_id = pred_dict['class_ids'][0]\n",
    "    probability = pred_dict['probabilities'][class_id]\n",
    "    print('Prediction is \"{}\" ({:.1f}%)\"'.format(class_id, 100 * probability))"
   ],
   "metadata": {
    "collapsed": false,
    "ExecuteTime": {
     "end_time": "2023-07-23T15:15:19.952601Z",
     "start_time": "2023-07-23T15:15:19.110922Z"
    }
   }
  },
  {
   "cell_type": "code",
   "execution_count": null,
   "outputs": [],
   "source": [],
   "metadata": {
    "collapsed": false
   }
  }
 ],
 "metadata": {
  "kernelspec": {
   "display_name": "Python 3",
   "language": "python",
   "name": "python3"
  },
  "language_info": {
   "codemirror_mode": {
    "name": "ipython",
    "version": 2
   },
   "file_extension": ".py",
   "mimetype": "text/x-python",
   "name": "python",
   "nbconvert_exporter": "python",
   "pygments_lexer": "ipython2",
   "version": "2.7.6"
  }
 },
 "nbformat": 4,
 "nbformat_minor": 0
}
