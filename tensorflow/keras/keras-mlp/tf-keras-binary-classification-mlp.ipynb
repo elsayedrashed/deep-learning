{
 "cells": [
  {
   "cell_type": "markdown",
   "source": [
    "## MLP for Binary Classification\n",
    "https://machinelearningmastery.com/tensorflow-tutorial-deep-learning-with-tf-keras\n",
    "This dataset involves predicting whether a structure is in the atmosphere or not, given radar returns.\n",
    "\n",
    "We will use a LabelEncoder to encode the string labels to integer values 0 and 1. The model will be fit on 67% of the data, and the remaining 33% will be used for evaluation, split using the train_test_split() function.\n",
    "\n",
    "It is good practice to use ‘relu‘ activation with a ‘he_normal‘ weight initialization. This combination goes a long way in overcoming the problem of vanishing gradients when training deep neural network models. For more on ReLU, see the tutorial:\n",
    "\n",
    "The model predicts the probability of class 1 and uses the sigmoid activation function. The model is optimized using the adam version of stochastic gradient descent and seeks to minimize the cross-entropy loss."
   ],
   "metadata": {
    "collapsed": false
   }
  },
  {
   "cell_type": "code",
   "execution_count": 1,
   "outputs": [],
   "source": [
    "import tensorflow as tf\n",
    "import pandas as pd"
   ],
   "metadata": {
    "collapsed": false,
    "ExecuteTime": {
     "end_time": "2023-07-24T12:41:40.203087Z",
     "start_time": "2023-07-24T12:41:31.893375Z"
    }
   }
  },
  {
   "cell_type": "code",
   "execution_count": 2,
   "outputs": [],
   "source": [
    "from sklearn.model_selection import train_test_split\n",
    "from sklearn.preprocessing import LabelEncoder"
   ],
   "metadata": {
    "collapsed": false,
    "ExecuteTime": {
     "end_time": "2023-07-24T12:41:43.097613Z",
     "start_time": "2023-07-24T12:41:42.194467Z"
    }
   }
  },
  {
   "cell_type": "code",
   "execution_count": 3,
   "outputs": [],
   "source": [
    "from tensorflow.keras import Sequential\n",
    "from tensorflow.keras.layers import Dense"
   ],
   "metadata": {
    "collapsed": false,
    "ExecuteTime": {
     "end_time": "2023-07-24T12:41:44.752929Z",
     "start_time": "2023-07-24T12:41:44.689942Z"
    }
   }
  },
  {
   "cell_type": "code",
   "execution_count": 4,
   "outputs": [],
   "source": [
    "import warnings\n",
    "warnings.filterwarnings('ignore')"
   ],
   "metadata": {
    "collapsed": false,
    "ExecuteTime": {
     "end_time": "2023-07-24T12:41:46.408695Z",
     "start_time": "2023-07-24T12:41:46.401082Z"
    }
   }
  },
  {
   "cell_type": "code",
   "execution_count": 5,
   "outputs": [],
   "source": [
    "tf.get_logger().setLevel('ERROR')"
   ],
   "metadata": {
    "collapsed": false,
    "ExecuteTime": {
     "end_time": "2023-07-24T12:41:47.454364Z",
     "start_time": "2023-07-24T12:41:47.446158Z"
    }
   }
  },
  {
   "cell_type": "markdown",
   "source": [
    "## Load the Dataset"
   ],
   "metadata": {
    "collapsed": false
   }
  },
  {
   "cell_type": "code",
   "execution_count": 6,
   "outputs": [],
   "source": [
    "url = 'https://raw.githubusercontent.com/jbrownlee/Datasets/master/ionosphere.csv'\n",
    "df = pd.read_csv(url, header=None)"
   ],
   "metadata": {
    "collapsed": false,
    "ExecuteTime": {
     "end_time": "2023-07-24T12:41:50.066146Z",
     "start_time": "2023-07-24T12:41:49.739307Z"
    }
   }
  },
  {
   "cell_type": "code",
   "execution_count": 7,
   "outputs": [
    {
     "data": {
      "text/plain": "     0   1        2        3        4        5        6        7        8   \\\n0     1   0  0.99539 -0.05889  0.85243  0.02306  0.83398 -0.37708  1.00000   \n1     1   0  1.00000 -0.18829  0.93035 -0.36156 -0.10868 -0.93597  1.00000   \n2     1   0  1.00000 -0.03365  1.00000  0.00485  1.00000 -0.12062  0.88965   \n3     1   0  1.00000 -0.45161  1.00000  1.00000  0.71216 -1.00000  0.00000   \n4     1   0  1.00000 -0.02401  0.94140  0.06531  0.92106 -0.23255  0.77152   \n..   ..  ..      ...      ...      ...      ...      ...      ...      ...   \n346   1   0  0.83508  0.08298  0.73739 -0.14706  0.84349 -0.05567  0.90441   \n347   1   0  0.95113  0.00419  0.95183 -0.02723  0.93438 -0.01920  0.94590   \n348   1   0  0.94701 -0.00034  0.93207 -0.03227  0.95177 -0.03431  0.95584   \n349   1   0  0.90608 -0.01657  0.98122 -0.01989  0.95691 -0.03646  0.85746   \n350   1   0  0.84710  0.13533  0.73638 -0.06151  0.87873  0.08260  0.88928   \n\n          9   ...       25       26       27       28       29       30  \\\n0    0.03760  ... -0.51171  0.41078 -0.46168  0.21266 -0.34090  0.42267   \n1   -0.04549  ... -0.26569 -0.20468 -0.18401 -0.19040 -0.11593 -0.16626   \n2    0.01198  ... -0.40220  0.58984 -0.22145  0.43100 -0.17365  0.60436   \n3    0.00000  ...  0.90695  0.51613  1.00000  1.00000 -0.20099  0.25682   \n4   -0.16399  ... -0.65158  0.13290 -0.53206  0.02431 -0.62197 -0.05707   \n..       ...  ...      ...      ...      ...      ...      ...      ...   \n346 -0.04622  ... -0.04202  0.83479  0.00123  1.00000  0.12815  0.86660   \n347  0.01606  ...  0.01361  0.93522  0.04925  0.93159  0.08168  0.94066   \n348  0.02446  ...  0.03193  0.92489  0.02542  0.92120  0.02242  0.92459   \n349  0.00110  ... -0.02099  0.89147 -0.07760  0.82983 -0.17238  0.96022   \n350 -0.09139  ... -0.15114  0.81147 -0.04822  0.78207 -0.00703  0.75747   \n\n          31       32       33  34  \n0   -0.54487  0.18641 -0.45300   g  \n1   -0.06288 -0.13738 -0.02447   b  \n2   -0.24180  0.56045 -0.38238   g  \n3    1.00000 -0.32382  1.00000   b  \n4   -0.59573 -0.04608 -0.65697   g  \n..       ...      ...      ...  ..  \n346 -0.10714  0.90546 -0.04307   g  \n347 -0.00035  0.91483  0.04712   g  \n348  0.00442  0.92697 -0.00577   g  \n349 -0.03757  0.87403 -0.16243   g  \n350 -0.06678  0.85764 -0.06151   g  \n\n[351 rows x 35 columns]",
      "text/html": "<div>\n<style scoped>\n    .dataframe tbody tr th:only-of-type {\n        vertical-align: middle;\n    }\n\n    .dataframe tbody tr th {\n        vertical-align: top;\n    }\n\n    .dataframe thead th {\n        text-align: right;\n    }\n</style>\n<table border=\"1\" class=\"dataframe\">\n  <thead>\n    <tr style=\"text-align: right;\">\n      <th></th>\n      <th>0</th>\n      <th>1</th>\n      <th>2</th>\n      <th>3</th>\n      <th>4</th>\n      <th>5</th>\n      <th>6</th>\n      <th>7</th>\n      <th>8</th>\n      <th>9</th>\n      <th>...</th>\n      <th>25</th>\n      <th>26</th>\n      <th>27</th>\n      <th>28</th>\n      <th>29</th>\n      <th>30</th>\n      <th>31</th>\n      <th>32</th>\n      <th>33</th>\n      <th>34</th>\n    </tr>\n  </thead>\n  <tbody>\n    <tr>\n      <th>0</th>\n      <td>1</td>\n      <td>0</td>\n      <td>0.99539</td>\n      <td>-0.05889</td>\n      <td>0.85243</td>\n      <td>0.02306</td>\n      <td>0.83398</td>\n      <td>-0.37708</td>\n      <td>1.00000</td>\n      <td>0.03760</td>\n      <td>...</td>\n      <td>-0.51171</td>\n      <td>0.41078</td>\n      <td>-0.46168</td>\n      <td>0.21266</td>\n      <td>-0.34090</td>\n      <td>0.42267</td>\n      <td>-0.54487</td>\n      <td>0.18641</td>\n      <td>-0.45300</td>\n      <td>g</td>\n    </tr>\n    <tr>\n      <th>1</th>\n      <td>1</td>\n      <td>0</td>\n      <td>1.00000</td>\n      <td>-0.18829</td>\n      <td>0.93035</td>\n      <td>-0.36156</td>\n      <td>-0.10868</td>\n      <td>-0.93597</td>\n      <td>1.00000</td>\n      <td>-0.04549</td>\n      <td>...</td>\n      <td>-0.26569</td>\n      <td>-0.20468</td>\n      <td>-0.18401</td>\n      <td>-0.19040</td>\n      <td>-0.11593</td>\n      <td>-0.16626</td>\n      <td>-0.06288</td>\n      <td>-0.13738</td>\n      <td>-0.02447</td>\n      <td>b</td>\n    </tr>\n    <tr>\n      <th>2</th>\n      <td>1</td>\n      <td>0</td>\n      <td>1.00000</td>\n      <td>-0.03365</td>\n      <td>1.00000</td>\n      <td>0.00485</td>\n      <td>1.00000</td>\n      <td>-0.12062</td>\n      <td>0.88965</td>\n      <td>0.01198</td>\n      <td>...</td>\n      <td>-0.40220</td>\n      <td>0.58984</td>\n      <td>-0.22145</td>\n      <td>0.43100</td>\n      <td>-0.17365</td>\n      <td>0.60436</td>\n      <td>-0.24180</td>\n      <td>0.56045</td>\n      <td>-0.38238</td>\n      <td>g</td>\n    </tr>\n    <tr>\n      <th>3</th>\n      <td>1</td>\n      <td>0</td>\n      <td>1.00000</td>\n      <td>-0.45161</td>\n      <td>1.00000</td>\n      <td>1.00000</td>\n      <td>0.71216</td>\n      <td>-1.00000</td>\n      <td>0.00000</td>\n      <td>0.00000</td>\n      <td>...</td>\n      <td>0.90695</td>\n      <td>0.51613</td>\n      <td>1.00000</td>\n      <td>1.00000</td>\n      <td>-0.20099</td>\n      <td>0.25682</td>\n      <td>1.00000</td>\n      <td>-0.32382</td>\n      <td>1.00000</td>\n      <td>b</td>\n    </tr>\n    <tr>\n      <th>4</th>\n      <td>1</td>\n      <td>0</td>\n      <td>1.00000</td>\n      <td>-0.02401</td>\n      <td>0.94140</td>\n      <td>0.06531</td>\n      <td>0.92106</td>\n      <td>-0.23255</td>\n      <td>0.77152</td>\n      <td>-0.16399</td>\n      <td>...</td>\n      <td>-0.65158</td>\n      <td>0.13290</td>\n      <td>-0.53206</td>\n      <td>0.02431</td>\n      <td>-0.62197</td>\n      <td>-0.05707</td>\n      <td>-0.59573</td>\n      <td>-0.04608</td>\n      <td>-0.65697</td>\n      <td>g</td>\n    </tr>\n    <tr>\n      <th>...</th>\n      <td>...</td>\n      <td>...</td>\n      <td>...</td>\n      <td>...</td>\n      <td>...</td>\n      <td>...</td>\n      <td>...</td>\n      <td>...</td>\n      <td>...</td>\n      <td>...</td>\n      <td>...</td>\n      <td>...</td>\n      <td>...</td>\n      <td>...</td>\n      <td>...</td>\n      <td>...</td>\n      <td>...</td>\n      <td>...</td>\n      <td>...</td>\n      <td>...</td>\n      <td>...</td>\n    </tr>\n    <tr>\n      <th>346</th>\n      <td>1</td>\n      <td>0</td>\n      <td>0.83508</td>\n      <td>0.08298</td>\n      <td>0.73739</td>\n      <td>-0.14706</td>\n      <td>0.84349</td>\n      <td>-0.05567</td>\n      <td>0.90441</td>\n      <td>-0.04622</td>\n      <td>...</td>\n      <td>-0.04202</td>\n      <td>0.83479</td>\n      <td>0.00123</td>\n      <td>1.00000</td>\n      <td>0.12815</td>\n      <td>0.86660</td>\n      <td>-0.10714</td>\n      <td>0.90546</td>\n      <td>-0.04307</td>\n      <td>g</td>\n    </tr>\n    <tr>\n      <th>347</th>\n      <td>1</td>\n      <td>0</td>\n      <td>0.95113</td>\n      <td>0.00419</td>\n      <td>0.95183</td>\n      <td>-0.02723</td>\n      <td>0.93438</td>\n      <td>-0.01920</td>\n      <td>0.94590</td>\n      <td>0.01606</td>\n      <td>...</td>\n      <td>0.01361</td>\n      <td>0.93522</td>\n      <td>0.04925</td>\n      <td>0.93159</td>\n      <td>0.08168</td>\n      <td>0.94066</td>\n      <td>-0.00035</td>\n      <td>0.91483</td>\n      <td>0.04712</td>\n      <td>g</td>\n    </tr>\n    <tr>\n      <th>348</th>\n      <td>1</td>\n      <td>0</td>\n      <td>0.94701</td>\n      <td>-0.00034</td>\n      <td>0.93207</td>\n      <td>-0.03227</td>\n      <td>0.95177</td>\n      <td>-0.03431</td>\n      <td>0.95584</td>\n      <td>0.02446</td>\n      <td>...</td>\n      <td>0.03193</td>\n      <td>0.92489</td>\n      <td>0.02542</td>\n      <td>0.92120</td>\n      <td>0.02242</td>\n      <td>0.92459</td>\n      <td>0.00442</td>\n      <td>0.92697</td>\n      <td>-0.00577</td>\n      <td>g</td>\n    </tr>\n    <tr>\n      <th>349</th>\n      <td>1</td>\n      <td>0</td>\n      <td>0.90608</td>\n      <td>-0.01657</td>\n      <td>0.98122</td>\n      <td>-0.01989</td>\n      <td>0.95691</td>\n      <td>-0.03646</td>\n      <td>0.85746</td>\n      <td>0.00110</td>\n      <td>...</td>\n      <td>-0.02099</td>\n      <td>0.89147</td>\n      <td>-0.07760</td>\n      <td>0.82983</td>\n      <td>-0.17238</td>\n      <td>0.96022</td>\n      <td>-0.03757</td>\n      <td>0.87403</td>\n      <td>-0.16243</td>\n      <td>g</td>\n    </tr>\n    <tr>\n      <th>350</th>\n      <td>1</td>\n      <td>0</td>\n      <td>0.84710</td>\n      <td>0.13533</td>\n      <td>0.73638</td>\n      <td>-0.06151</td>\n      <td>0.87873</td>\n      <td>0.08260</td>\n      <td>0.88928</td>\n      <td>-0.09139</td>\n      <td>...</td>\n      <td>-0.15114</td>\n      <td>0.81147</td>\n      <td>-0.04822</td>\n      <td>0.78207</td>\n      <td>-0.00703</td>\n      <td>0.75747</td>\n      <td>-0.06678</td>\n      <td>0.85764</td>\n      <td>-0.06151</td>\n      <td>g</td>\n    </tr>\n  </tbody>\n</table>\n<p>351 rows × 35 columns</p>\n</div>"
     },
     "execution_count": 7,
     "metadata": {},
     "output_type": "execute_result"
    }
   ],
   "source": [
    "df"
   ],
   "metadata": {
    "collapsed": false,
    "ExecuteTime": {
     "end_time": "2023-07-24T12:41:52.538392Z",
     "start_time": "2023-07-24T12:41:52.502032Z"
    }
   }
  },
  {
   "cell_type": "code",
   "execution_count": 8,
   "outputs": [],
   "source": [
    "# split into input and output columns\n",
    "X, y = df.values[:, :-1], df.values[:, -1]"
   ],
   "metadata": {
    "collapsed": false,
    "ExecuteTime": {
     "end_time": "2023-07-24T12:41:53.731272Z",
     "start_time": "2023-07-24T12:41:53.720037Z"
    }
   }
  },
  {
   "cell_type": "code",
   "execution_count": 9,
   "outputs": [],
   "source": [
    "# ensure all data are floating point values\n",
    "X = X.astype('float32')"
   ],
   "metadata": {
    "collapsed": false,
    "ExecuteTime": {
     "end_time": "2023-07-24T12:41:54.355254Z",
     "start_time": "2023-07-24T12:41:54.344053Z"
    }
   }
  },
  {
   "cell_type": "code",
   "execution_count": 10,
   "outputs": [],
   "source": [
    "# encode strings to integer\n",
    "y = LabelEncoder().fit_transform(y)"
   ],
   "metadata": {
    "collapsed": false,
    "ExecuteTime": {
     "end_time": "2023-07-24T12:41:55.265889Z",
     "start_time": "2023-07-24T12:41:55.254338Z"
    }
   }
  },
  {
   "cell_type": "code",
   "execution_count": 11,
   "outputs": [
    {
     "name": "stdout",
     "output_type": "stream",
     "text": [
      "(235, 34) (116, 34) (235,) (116,)\n"
     ]
    }
   ],
   "source": [
    "# split into train and test datasets\n",
    "X_train, X_test, y_train, y_test = train_test_split(X, y, test_size=0.33)\n",
    "print(X_train.shape, X_test.shape, y_train.shape, y_test.shape)"
   ],
   "metadata": {
    "collapsed": false,
    "ExecuteTime": {
     "end_time": "2023-07-24T12:41:55.839616Z",
     "start_time": "2023-07-24T12:41:55.828597Z"
    }
   }
  },
  {
   "cell_type": "code",
   "execution_count": 12,
   "outputs": [],
   "source": [
    "# determine the number of input features\n",
    "n_features = X_train.shape[1]"
   ],
   "metadata": {
    "collapsed": false,
    "ExecuteTime": {
     "end_time": "2023-07-24T12:41:56.683693Z",
     "start_time": "2023-07-24T12:41:56.673287Z"
    }
   }
  },
  {
   "cell_type": "markdown",
   "source": [
    "## Step 1: Define the Model"
   ],
   "metadata": {
    "collapsed": false
   }
  },
  {
   "cell_type": "code",
   "execution_count": 32,
   "outputs": [],
   "source": [
    "# define model\n",
    "model = Sequential()\n",
    "model.add(Dense(10, activation='relu', kernel_initializer='he_normal', input_shape=(n_features,)))\n",
    "model.add(Dense(8, activation='relu', kernel_initializer='he_normal'))\n",
    "model.add(Dense(1, activation='sigmoid'))"
   ],
   "metadata": {
    "collapsed": false,
    "ExecuteTime": {
     "end_time": "2023-07-24T12:45:14.812898Z",
     "start_time": "2023-07-24T12:45:14.769863Z"
    }
   }
  },
  {
   "cell_type": "markdown",
   "source": [
    "## Step 2: Compile the Model"
   ],
   "metadata": {
    "collapsed": false
   }
  },
  {
   "cell_type": "code",
   "execution_count": 39,
   "outputs": [],
   "source": [
    "# compile the model\n",
    "model.compile(optimizer='adam', loss='binary_crossentropy', metrics=['accuracy'])"
   ],
   "metadata": {
    "collapsed": false,
    "ExecuteTime": {
     "end_time": "2023-07-24T12:46:21.197447Z",
     "start_time": "2023-07-24T12:46:21.184356Z"
    }
   }
  },
  {
   "cell_type": "markdown",
   "source": [
    "## Step 3: Fit the Model"
   ],
   "metadata": {
    "collapsed": false
   }
  },
  {
   "cell_type": "code",
   "execution_count": 42,
   "outputs": [
    {
     "data": {
      "text/plain": "<keras.src.callbacks.History at 0x17abc7a00>"
     },
     "execution_count": 42,
     "metadata": {},
     "output_type": "execute_result"
    }
   ],
   "source": [
    "# fit the model\n",
    "model.fit(X_train, y_train, epochs=150, batch_size=32, verbose=0)"
   ],
   "metadata": {
    "collapsed": false,
    "ExecuteTime": {
     "end_time": "2023-07-24T12:46:42.388145Z",
     "start_time": "2023-07-24T12:46:40.698042Z"
    }
   }
  },
  {
   "cell_type": "markdown",
   "source": [
    "## Step 4: Evaluate the Model"
   ],
   "metadata": {
    "collapsed": false
   }
  },
  {
   "cell_type": "code",
   "execution_count": 43,
   "outputs": [
    {
     "name": "stdout",
     "output_type": "stream",
     "text": [
      "Test Accuracy: 0.853\n"
     ]
    }
   ],
   "source": [
    "# Evaluate the model\n",
    "loss, acc = model.evaluate(X_test, y_test, verbose=0)\n",
    "print('Test Accuracy: %.3f' % acc)"
   ],
   "metadata": {
    "collapsed": false,
    "ExecuteTime": {
     "end_time": "2023-07-24T12:46:44.187150Z",
     "start_time": "2023-07-24T12:46:44.106869Z"
    }
   }
  },
  {
   "cell_type": "markdown",
   "source": [
    "## Step 5: Make Prediction"
   ],
   "metadata": {
    "collapsed": false
   }
  },
  {
   "cell_type": "code",
   "execution_count": 44,
   "outputs": [
    {
     "name": "stdout",
     "output_type": "stream",
     "text": [
      "1/1 [==============================] - 0s 83ms/step\n",
      "Predicted: 1.000\n"
     ]
    }
   ],
   "source": [
    "# make a prediction\n",
    "row = [1,0,0.99539,-0.05889,0.85243,0.02306,0.83398,-0.37708,1,0.03760,0.85243,-0.17755,0.59755,-0.44945,0.60536,-0.38223,0.84356,-0.38542,0.58212,-0.32192,0.56971,-0.29674,0.36946,-0.47357,0.56811,-0.51171,0.41078,-0.46168,0.21266,-0.34090,0.42267,-0.54487,0.18641,-0.45300]\n",
    "y_pred = model.predict([row])\n",
    "print('Predicted: %.3f' % y_pred)"
   ],
   "metadata": {
    "collapsed": false,
    "ExecuteTime": {
     "end_time": "2023-07-24T12:46:47.799376Z",
     "start_time": "2023-07-24T12:46:47.664757Z"
    }
   }
  },
  {
   "cell_type": "code",
   "execution_count": 45,
   "outputs": [
    {
     "data": {
      "text/plain": "array([[0.9998553]], dtype=float32)"
     },
     "execution_count": 45,
     "metadata": {},
     "output_type": "execute_result"
    }
   ],
   "source": [
    "y_pred"
   ],
   "metadata": {
    "collapsed": false,
    "ExecuteTime": {
     "end_time": "2023-07-24T12:46:49.531199Z",
     "start_time": "2023-07-24T12:46:49.524333Z"
    }
   }
  },
  {
   "cell_type": "markdown",
   "source": [
    "The model achieved a classification accuracy of about 96% and then predicted a probability of 0.999 that the one row of data belongs to class 1."
   ],
   "metadata": {
    "collapsed": false
   }
  },
  {
   "cell_type": "code",
   "execution_count": null,
   "outputs": [],
   "source": [],
   "metadata": {
    "collapsed": false
   }
  }
 ],
 "metadata": {
  "kernelspec": {
   "display_name": "Python 3",
   "language": "python",
   "name": "python3"
  },
  "language_info": {
   "codemirror_mode": {
    "name": "ipython",
    "version": 2
   },
   "file_extension": ".py",
   "mimetype": "text/x-python",
   "name": "python",
   "nbconvert_exporter": "python",
   "pygments_lexer": "ipython2",
   "version": "2.7.6"
  }
 },
 "nbformat": 4,
 "nbformat_minor": 0
}
